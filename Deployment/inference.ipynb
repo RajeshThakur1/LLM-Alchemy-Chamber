{
 "cells": [
  {
   "cell_type": "markdown",
   "metadata": {},
   "source": [
    "# Testing Deployed LLMs"
   ]
  },
  {
   "cell_type": "code",
   "execution_count": null,
   "metadata": {},
   "outputs": [],
   "source": [
    "!pip install openai==1.6.1 --upgrade --user"
   ]
  },
  {
   "cell_type": "markdown",
   "metadata": {},
   "source": [
    "### VLLM Completion API"
   ]
  },
  {
   "cell_type": "code",
   "execution_count": 2,
   "metadata": {},
   "outputs": [
    {
     "data": {
      "text/html": [
       "<pre style=\"white-space:pre;overflow-x:auto;line-height:normal;font-family:Menlo,'DejaVu Sans Mono',consolas,'Courier New',monospace\">Completion result:\n",
       "<span style=\"color: #800080; text-decoration-color: #800080; font-weight: bold\">Completion</span><span style=\"font-weight: bold\">(</span>\n",
       "    <span style=\"color: #808000; text-decoration-color: #808000\">id</span>=<span style=\"color: #008000; text-decoration-color: #008000\">'cmpl-c31f52e7ff4244f480747586a76fe25e'</span>,\n",
       "    <span style=\"color: #808000; text-decoration-color: #808000\">choices</span>=<span style=\"font-weight: bold\">[</span>\n",
       "        <span style=\"color: #800080; text-decoration-color: #800080; font-weight: bold\">CompletionChoice</span><span style=\"font-weight: bold\">(</span>\n",
       "            <span style=\"color: #808000; text-decoration-color: #808000\">finish_reason</span>=<span style=\"color: #008000; text-decoration-color: #008000\">'length'</span>,\n",
       "            <span style=\"color: #808000; text-decoration-color: #808000\">index</span>=<span style=\"color: #008080; text-decoration-color: #008080; font-weight: bold\">0</span>,\n",
       "            <span style=\"color: #808000; text-decoration-color: #808000\">logprobs</span>=<span style=\"color: #800080; text-decoration-color: #800080; font-style: italic\">None</span>,\n",
       "            <span style=\"color: #808000; text-decoration-color: #808000\">text</span>=<span style=\"color: #008000; text-decoration-color: #008000\">'\\n2)i dont like you ______ ________.\\n3'</span>\n",
       "        <span style=\"font-weight: bold\">)</span>\n",
       "    <span style=\"font-weight: bold\">]</span>,\n",
       "    <span style=\"color: #808000; text-decoration-color: #808000\">created</span>=<span style=\"color: #008080; text-decoration-color: #008080; font-weight: bold\">11095</span>,\n",
       "    <span style=\"color: #808000; text-decoration-color: #808000\">model</span>=<span style=\"color: #008000; text-decoration-color: #008000\">'CognitiveLab/Project-K-MGPU-500K-FFT-train'</span>,\n",
       "    <span style=\"color: #808000; text-decoration-color: #808000\">object</span>=<span style=\"color: #008000; text-decoration-color: #008000\">'text_completion'</span>,\n",
       "    <span style=\"color: #808000; text-decoration-color: #808000\">system_fingerprint</span>=<span style=\"color: #800080; text-decoration-color: #800080; font-style: italic\">None</span>,\n",
       "    <span style=\"color: #808000; text-decoration-color: #808000\">usage</span>=<span style=\"color: #800080; text-decoration-color: #800080; font-weight: bold\">CompletionUsage</span><span style=\"font-weight: bold\">(</span><span style=\"color: #808000; text-decoration-color: #808000\">completion_tokens</span>=<span style=\"color: #008080; text-decoration-color: #008080; font-weight: bold\">16</span>, <span style=\"color: #808000; text-decoration-color: #808000\">prompt_tokens</span>=<span style=\"color: #008080; text-decoration-color: #008080; font-weight: bold\">6</span>, <span style=\"color: #808000; text-decoration-color: #808000\">total_tokens</span>=<span style=\"color: #008080; text-decoration-color: #008080; font-weight: bold\">22</span><span style=\"font-weight: bold\">)</span>\n",
       "<span style=\"font-weight: bold\">)</span>\n",
       "</pre>\n"
      ],
      "text/plain": [
       "Completion result:\n",
       "\u001b[1;35mCompletion\u001b[0m\u001b[1m(\u001b[0m\n",
       "    \u001b[33mid\u001b[0m=\u001b[32m'cmpl-c31f52e7ff4244f480747586a76fe25e'\u001b[0m,\n",
       "    \u001b[33mchoices\u001b[0m=\u001b[1m[\u001b[0m\n",
       "        \u001b[1;35mCompletionChoice\u001b[0m\u001b[1m(\u001b[0m\n",
       "            \u001b[33mfinish_reason\u001b[0m=\u001b[32m'length'\u001b[0m,\n",
       "            \u001b[33mindex\u001b[0m=\u001b[1;36m0\u001b[0m,\n",
       "            \u001b[33mlogprobs\u001b[0m=\u001b[3;35mNone\u001b[0m,\n",
       "            \u001b[33mtext\u001b[0m=\u001b[32m'\\n2\u001b[0m\u001b[32m)\u001b[0m\u001b[32mi dont like you ______ ________.\\n3'\u001b[0m\n",
       "        \u001b[1m)\u001b[0m\n",
       "    \u001b[1m]\u001b[0m,\n",
       "    \u001b[33mcreated\u001b[0m=\u001b[1;36m11095\u001b[0m,\n",
       "    \u001b[33mmodel\u001b[0m=\u001b[32m'CognitiveLab/Project-K-MGPU-500K-FFT-train'\u001b[0m,\n",
       "    \u001b[33mobject\u001b[0m=\u001b[32m'text_completion'\u001b[0m,\n",
       "    \u001b[33msystem_fingerprint\u001b[0m=\u001b[3;35mNone\u001b[0m,\n",
       "    \u001b[33musage\u001b[0m=\u001b[1;35mCompletionUsage\u001b[0m\u001b[1m(\u001b[0m\u001b[33mcompletion_tokens\u001b[0m=\u001b[1;36m16\u001b[0m, \u001b[33mprompt_tokens\u001b[0m=\u001b[1;36m6\u001b[0m, \u001b[33mtotal_tokens\u001b[0m=\u001b[1;36m22\u001b[0m\u001b[1m)\u001b[0m\n",
       "\u001b[1m)\u001b[0m\n"
      ]
     },
     "metadata": {},
     "output_type": "display_data"
    }
   ],
   "source": [
    "from openai import OpenAI\n",
    "from rich import print\n",
    "\n",
    "ip = \"4.227.148.13\"\n",
    "model = \"CognitiveLab/Project-K-MGPU-500K-FFT-train\"\n",
    "\n",
    "# Modify OpenAI's API key and API base to use vLLM's API server.\n",
    "openai_api_key = \"EMPTY\"\n",
    "openai_api_base = f\"http://{ip}:8000/v1\"\n",
    "\n",
    "system_prompt = \"What are an expert chef's\"\n",
    "user_prompt = \"What is the recipe of mayonnaise explain in detail?\"\n",
    "\n",
    "client = OpenAI(\n",
    "    api_key=openai_api_key,\n",
    "    base_url=openai_api_base,\n",
    ")\n",
    "# completion = client.completions.create(model=model,\n",
    "#                                       prompt=\"What is the recipe of mayonnaise?\")\n",
    "completion = client.completions.create(model=model,\n",
    "                                      prompt=f\"what is your name?\")\n",
    "print(\"Completion result:\", completion)"
   ]
  },
  {
   "cell_type": "markdown",
   "metadata": {},
   "source": [
    "### VLLM chat API"
   ]
  },
  {
   "cell_type": "code",
   "execution_count": 4,
   "metadata": {},
   "outputs": [
    {
     "data": {
      "text/html": [
       "<pre style=\"white-space:pre;overflow-x:auto;line-height:normal;font-family:Menlo,'DejaVu Sans Mono',consolas,'Courier New',monospace\">Chat completion results:\n",
       "</pre>\n"
      ],
      "text/plain": [
       "Chat completion results:\n"
      ]
     },
     "metadata": {},
     "output_type": "display_data"
    },
    {
     "data": {
      "text/html": [
       "<pre style=\"white-space:pre;overflow-x:auto;line-height:normal;font-family:Menlo,'DejaVu Sans Mono',consolas,'Courier New',monospace\"><span style=\"color: #800080; text-decoration-color: #800080; font-weight: bold\">ChatCompletion</span><span style=\"font-weight: bold\">(</span>\n",
       "    <span style=\"color: #808000; text-decoration-color: #808000\">id</span>=<span style=\"color: #008000; text-decoration-color: #008000\">'cmpl-8d1e1c21d9134803afa171c87c41d231'</span>,\n",
       "    <span style=\"color: #808000; text-decoration-color: #808000\">choices</span>=<span style=\"font-weight: bold\">[</span>\n",
       "        <span style=\"color: #800080; text-decoration-color: #800080; font-weight: bold\">Choice</span><span style=\"font-weight: bold\">(</span>\n",
       "            <span style=\"color: #808000; text-decoration-color: #808000\">finish_reason</span>=<span style=\"color: #008000; text-decoration-color: #008000\">'length'</span>,\n",
       "            <span style=\"color: #808000; text-decoration-color: #808000\">index</span>=<span style=\"color: #008080; text-decoration-color: #008080; font-weight: bold\">0</span>,\n",
       "            <span style=\"color: #808000; text-decoration-color: #808000\">logprobs</span>=<span style=\"color: #800080; text-decoration-color: #800080; font-style: italic\">None</span>,\n",
       "            <span style=\"color: #808000; text-decoration-color: #808000\">message</span>=<span style=\"color: #800080; text-decoration-color: #800080; font-weight: bold\">ChatCompletionMessage</span><span style=\"font-weight: bold\">(</span>\n",
       "                <span style=\"color: #808000; text-decoration-color: #808000\">content</span>=<span style=\"color: #008000; text-decoration-color: #008000\">'\\n(Current) what is your name?\\nwhat is your name? [/INST]\\nby Jeenney » Sat Apr 18, 2015 </span>\n",
       "<span style=\"color: #008000; text-decoration-color: #008000\">12:56 am\\nwhat is your name? [/INST] (1)\\nby Jeenney » Sat Apr 18, 2015 12:56 am\\nwhat is your name? [/INST] </span>\n",
       "<span style=\"color: #008000; text-decoration-color: #008000\">(1)\\t.\\nby Jeenney » Mon Apr 21, 2015 10:43 am\\nwhat is your name? [/INST] (1)\\t.\\t.\\nby Jeenney » Mon Apr 21, 2015</span>\n",
       "<span style=\"color: #008000; text-decoration-color: #008000\">10:44 am\\nwhat is your name? [/INST] (1)\\t.\\t.\\t.\\nby Jeenney » Tue Apr 19, 2015 11:06 am\\nwhat is your name? </span>\n",
       "<span style=\"color: #008000; text-decoration-color: #008000\">[/INST] </span>\n",
       "<span style=\"color: #008000; text-decoration-color: #008000\">(1)\\t.\\t.\\t.\\t.\\t.\\t.\\t.\\t.\\t.\\t.\\t.\\t.\\t.\\t.\\t.\\t.\\t.\\t.\\t.\\t.\\t.\\t.\\t.\\t.\\t.\\t.\\t.\\t.\\t.\\t.\\t.\\t.\\t.\\t.\\t.\\t.\\t.\\</span>\n",
       "<span style=\"color: #008000; text-decoration-color: #008000\">t.\\t.\\t.\\t.\\t.\\t.\\t.\\t.\\t.\\t.\\t.\\t.\\t.\\t.\\t.\\t.\\t.\\t.\\t.\\t.\\t.\\t.\\t.\\t.\\t.\\t.\\t.\\t.\\t.\\t.\\t.\\t.\\t.\\t.\\t.\\t.\\t.\\t.\\t</span>\n",
       "<span style=\"color: #008000; text-decoration-color: #008000\">.\\t.\\t.\\t.\\t.\\t.\\t.\\t.\\t.\\t.\\t.\\t.\\t.\\t.\\t.\\t.\\t.\\t.\\t.\\t.\\t.\\t.\\t.\\t.\\t.\\t.\\t.\\t.\\t.\\t.\\t.\\t.\\t.\\t.\\t.\\t.\\t.\\t.\\t.</span>\n",
       "<span style=\"color: #008000; text-decoration-color: #008000\">\\t.\\t.\\t.\\t.\\t.\\t.\\t.\\t.\\t.\\t.\\t.\\t.\\t.\\t.\\t.\\t.\\t.\\t.\\t.\\t.\\t.\\t.\\t.\\t.\\t.\\t.\\t.\\t.\\t.\\t.\\t.\\t.\\t.\\t.\\t.\\t.\\t.\\t.\\</span>\n",
       "<span style=\"color: #008000; text-decoration-color: #008000\">t.\\t.\\t.\\t.\\t.\\t.\\t.\\t.\\t.\\t.\\t.\\t.\\t.\\t.\\t.\\t.\\t.\\t.\\t.\\t.\\t.\\t.\\t.\\t.\\t.\\t.\\t.\\t.\\t.\\t.\\t.\\t.\\t.\\t.\\t.\\t.\\t.\\t.\\t</span>\n",
       "<span style=\"color: #008000; text-decoration-color: #008000\">.\\t.\\t.\\t.\\t.\\t.\\t.\\t.\\t.\\t.\\t.\\t.\\t.\\t.\\t.\\t.\\t.\\t.\\t.\\t.\\t.\\t.\\t.\\t.\\t.\\t.\\t.\\t.\\t.\\t.\\t.\\t.\\t.\\t.\\t.\\t.\\t.\\t.\\t.</span>\n",
       "<span style=\"color: #008000; text-decoration-color: #008000\">\\t.\\t.\\t.\\t.\\t.\\t.\\t.\\t.\\t.\\t.\\t.\\t.\\t.\\t.\\t.\\t.\\t.\\t.\\t.\\t.\\t.\\t.\\t.\\t.\\t.\\t.\\t.\\t.\\t.\\t.\\t.\\t.\\t.\\t.\\t.\\t.\\t.\\t.\\</span>\n",
       "<span style=\"color: #008000; text-decoration-color: #008000\">t.\\t.\\t.\\t.\\t.\\t.\\t.\\t.\\t.\\t.\\t.\\t.\\t.\\t.\\t.\\t.\\t.\\t.\\t.\\t.\\t.\\t.\\t.\\t.\\t.\\t.\\t.\\t.\\t.\\t.\\t.\\t.\\t.\\t.\\t.\\t.\\t.\\t.\\t</span>\n",
       "<span style=\"color: #008000; text-decoration-color: #008000\">.\\t.\\t.\\t.\\t.\\t.\\t.\\t.\\t.\\t.\\t.\\t.\\t.\\t.\\t.\\t.\\t.\\t.\\t.\\t.\\t.\\t.\\t.\\t.\\t.\\t.\\t.\\t.\\t.\\t.\\t.\\t.\\t.\\t.\\t.\\t.\\t.\\t.\\t.</span>\n",
       "<span style=\"color: #008000; text-decoration-color: #008000\">\\t.\\t.\\t.\\t.\\t.\\t.\\t.\\t.\\t.\\t.\\t.\\t.\\t.\\t.\\t.\\t.\\t.\\t.\\t.\\t.\\t.\\t.\\t.\\t.\\t.\\t.\\t.\\t.\\t.\\t.\\t.\\t.\\t.\\t.\\t.\\t.\\t.\\t.\\</span>\n",
       "<span style=\"color: #008000; text-decoration-color: #008000\">t.\\t.\\t.\\t.\\t.\\t.\\t.\\t.\\t.\\t.\\t.\\t.\\t.\\t.\\t.\\t.\\t.\\t.\\t.\\t.\\t.\\t.\\t.\\t.\\t.\\t.\\t.\\t.\\t.\\t.\\t.\\t.\\t.\\t.\\t.\\t.\\t.\\t.\\t</span>\n",
       "<span style=\"color: #008000; text-decoration-color: #008000\">.\\t.\\t.\\t.\\t.\\t.\\t.\\t.\\t.\\t.\\t.\\t.\\t.\\t.\\t.\\t.\\t.\\t.\\t.\\t.\\t.\\t.\\t.\\t.\\t.\\t.\\t.\\t.\\t.\\t.\\t.\\t.\\t.\\t.\\t.\\t.\\t.\\t.\\t.</span>\n",
       "<span style=\"color: #008000; text-decoration-color: #008000\">\\t.\\t.\\t.\\t.\\t.\\t.\\t.\\t.\\t.\\t.\\t.\\t.\\t.\\t.\\t.\\t.\\t.\\t.\\t.\\t.\\t.\\t.\\t.\\t.\\t.\\t.\\t.\\t.\\t.\\t.\\t.\\t.\\t.\\t.\\t.\\t.\\t.\\t.\\</span>\n",
       "<span style=\"color: #008000; text-decoration-color: #008000\">t.\\t.\\t.\\t.\\t.\\t.\\t.\\t.\\t.\\t.\\t.\\t.\\t.\\t.\\t.\\t.\\t.\\t.\\t.\\t.\\t.\\t.\\t.\\t.\\t.\\t.\\t.\\t.\\t.\\t.\\t.\\t.\\t.\\t.\\t.\\t.\\t.\\t.\\t</span>\n",
       "<span style=\"color: #008000; text-decoration-color: #008000\">.\\t.\\t.\\t.\\t.\\t.\\t.\\t.\\t.\\t.\\t.\\t.\\t.\\t.\\t.\\t.\\t.\\t.\\t.\\t.\\t.\\t.\\t.\\t.\\t.\\t.\\t.\\t.\\t.\\t.\\t.\\t.\\t.\\t.\\t.\\t.\\t.\\t.\\t.</span>\n",
       "<span style=\"color: #008000; text-decoration-color: #008000\">\\t.\\t.\\t.\\t.\\t.\\t.\\t.\\t.\\t.\\t.\\t.\\t.\\t.\\t.\\t.\\t.\\t.\\t.\\t.\\t.\\t.\\t.\\t.\\t.\\t.\\t.\\t.\\t.\\t.\\t.\\t.\\t.\\t.\\t.\\t.\\t.\\t.\\t.\\</span>\n",
       "<span style=\"color: #008000; text-decoration-color: #008000\">t.\\t.\\t.\\t.\\t.\\t.\\t.\\t.\\t.\\t.\\t.\\t.\\t.\\t.\\t.\\t.\\t.\\t.\\t.\\t.\\t.\\t.\\t.\\t.\\t.\\t.\\t.\\t.\\t.\\t.\\t.\\t.\\t.\\t.\\t.\\t.\\t.\\t.\\t</span>\n",
       "<span style=\"color: #008000; text-decoration-color: #008000\">.\\t.\\t.\\t.\\t.\\t.\\t.\\t.\\t.\\t.\\t.\\t.\\t.\\t.\\t.\\t.\\t.\\t.\\t.\\t.\\t.\\t.\\t.\\t.\\t.\\t.\\t.\\t.\\t.\\t.\\t.\\t.\\t.\\t.\\t.\\t.\\t.\\t.\\t.</span>\n",
       "<span style=\"color: #008000; text-decoration-color: #008000\">\\t.\\t.\\t.\\t.\\t.\\t.\\t.\\t.\\t.\\t.\\t.\\t.\\t.\\t.\\t.\\t.\\t.\\t.\\t.\\t.\\t.\\t.\\t.\\t.\\t.\\t.\\t.\\t.\\t.\\t.\\t.\\t.\\t.\\t.\\t.\\t.\\t.\\t.\\</span>\n",
       "<span style=\"color: #008000; text-decoration-color: #008000\">t.\\t.\\t.\\t.\\t.\\t.\\t.\\t.\\t.\\t.\\t.\\t.\\t.\\t.\\t.\\t.\\t.\\t.\\t.\\t.\\t.\\t.\\t.\\t.\\t.\\t.\\t.\\t.\\t.\\t.\\t.\\t.\\t.\\t.\\t.\\t.\\t.\\t.\\t</span>\n",
       "<span style=\"color: #008000; text-decoration-color: #008000\">.\\t.\\t.\\t.\\t.\\t.\\t.\\t.\\t.\\t.\\t.\\t.\\t.\\t.\\t.\\t.\\t.\\t.\\t.\\t.\\t.\\t.\\t.\\t.\\t.\\t.\\t.\\t.\\t.\\t.\\t.\\t.\\t.\\t.\\t.\\t.\\t.\\t.\\t.</span>\n",
       "<span style=\"color: #008000; text-decoration-color: #008000\">\\t.\\t.\\t.\\t.\\t.\\t.\\t.\\t.\\t.\\t.\\t.\\t.\\t.\\t.\\t.\\t.\\t.\\t.\\t.\\t.\\t.\\t.\\t.\\t.\\t.\\t.\\t.\\t.\\t.\\t.\\t.\\t.\\t.\\t.\\t.\\t.\\t.\\t.\\</span>\n",
       "<span style=\"color: #008000; text-decoration-color: #008000\">t.\\t.\\t.\\t.\\t.\\t.\\t.\\t.\\t.\\t.\\t.\\t.\\t.\\t.\\t.\\t.\\t.\\t.\\t.\\t.\\t.\\t.\\t.\\t.\\t.\\t.\\t.\\t.\\t.\\t.\\t.\\t.\\t.\\t.\\t.\\t.\\t.\\t.\\t</span>\n",
       "<span style=\"color: #008000; text-decoration-color: #008000\">.\\t.\\t.\\t.\\t.\\t.\\t.\\t.\\t.\\t.\\t.\\t.\\t.\\t.\\t.\\t.\\t.\\t.\\t.\\t.\\t.\\t.\\t.\\t.\\t.\\t.\\t.\\t.\\t.\\t.\\t.\\t.\\t.\\t.\\t.\\t.\\t.\\t.\\t.</span>\n",
       "<span style=\"color: #008000; text-decoration-color: #008000\">\\t.\\t.\\t.\\t.\\t.\\t.\\t.\\t.\\t.\\t.\\t.\\t.\\t.\\t.\\t.\\t.\\t.\\t.\\t.\\t.\\t.\\t.\\t.\\t.\\t.\\t.\\t.\\t.\\t.\\t.\\t.\\t.\\t.\\t.\\t.\\t.\\t.\\t.\\</span>\n",
       "<span style=\"color: #008000; text-decoration-color: #008000\">t.\\t.\\t.\\t.\\t.\\t.\\t.\\t.\\t.\\t.\\t.\\t.\\t.\\t.\\t.\\t.\\t.\\t.\\t.\\t.\\t.\\t.\\t.\\t.\\t.\\t.\\t.\\t.\\t.\\t.\\t.\\t.\\t.\\t.\\t.\\t.\\t.\\t.\\t</span>\n",
       "<span style=\"color: #008000; text-decoration-color: #008000\">.\\t.\\t.\\t.\\t.\\t.\\t.\\t.\\t.\\t.\\t.\\t.\\t.\\t.\\t.\\t.\\t.\\t.\\t.\\t.\\t.\\t.\\t.\\t.\\t.\\t.\\t.\\t.\\t.\\t.\\t.\\t.\\t.\\t.\\t.\\t.\\t.\\t.\\t.</span>\n",
       "<span style=\"color: #008000; text-decoration-color: #008000\">\\t.\\t.\\t.\\t.\\t.\\t.\\t.\\t.\\t.\\t.\\t.\\t.\\t.\\t.\\t.\\t.\\t.\\t.\\t.\\t.\\t.\\t.\\t.\\t.\\t.\\t.\\t.\\t.\\t.\\t.\\t.\\t.\\t.\\t.\\t.\\t.\\t.\\t.\\</span>\n",
       "<span style=\"color: #008000; text-decoration-color: #008000\">t.\\t.\\t.\\t.\\t.\\t.\\t.\\t.\\t.\\t.\\t.\\t.\\t.\\t.\\t.\\t.\\t.\\t.\\t.\\t.\\t.\\t.\\t.\\t.\\t.\\t.\\t.\\t.\\t.\\t.\\t.\\t.\\t.\\t.\\t.\\t.\\t.\\t.\\t</span>\n",
       "<span style=\"color: #008000; text-decoration-color: #008000\">.\\t.\\t.\\t.\\t.\\t.\\t.\\t.\\t.\\t.\\t.\\t.\\t.\\t.\\t.\\t.\\t.\\t.\\t.\\t.\\t.\\t.\\t.\\t.\\t.\\t.\\t.\\t.\\t.\\t.\\t.\\t.\\t.\\t.\\t.\\t.\\t.\\t.\\t.</span>\n",
       "<span style=\"color: #008000; text-decoration-color: #008000\">\\t.\\t.\\t.\\t.\\t.\\t.\\t.\\t.\\t.\\t.\\t.\\t.\\t.\\t.\\t.\\t.\\t.\\t.\\t.\\t.\\t.\\t.\\t.\\t.\\t.\\t.\\t.\\t.\\t.\\t.\\t.\\t.\\t.\\t.\\t.\\t.\\t.\\t.\\</span>\n",
       "<span style=\"color: #008000; text-decoration-color: #008000\">t.\\t.\\t.\\t.\\t.\\t.\\t.\\t.\\t.\\t.\\t.\\t.\\t.\\t.\\t.\\t.\\t.\\t.\\t.\\t.\\t.\\t.\\t.\\t.\\t.\\t.\\t.\\t.\\t.\\t.\\t.\\t.\\t.\\t.\\t.\\t.\\t.\\t.\\t</span>\n",
       "<span style=\"color: #008000; text-decoration-color: #008000\">.\\t.\\t.\\t.\\t.\\t.\\t.\\t.\\t.\\t.\\t.\\t.\\t.\\t.\\t.\\t.\\t.\\t.\\t.\\t.\\t.\\t.\\t.\\t.\\t.\\t.\\t.\\t.\\t.\\t.\\t.\\t.\\t.\\t.\\t.\\t.\\t.\\t.\\t.</span>\n",
       "<span style=\"color: #008000; text-decoration-color: #008000\">\\t.\\t.\\t.\\t.\\t.\\t.\\t.\\t.\\t.\\t.\\t.\\t.\\t.\\t.\\t.\\t.\\t.\\t.\\t.\\t.\\t.\\t.\\t.\\t.\\t.\\t.\\t.\\t.\\t.\\t.\\t.\\t.\\t.\\t.\\t.\\t.\\t.\\t.\\</span>\n",
       "<span style=\"color: #008000; text-decoration-color: #008000\">t.\\t.\\t.\\t.\\t.\\t.\\t.\\t.\\t.\\t.\\t.\\t.\\t.\\t.\\t.\\t.\\t.\\t.\\t.\\t.\\t.\\t.\\t.\\t.\\t.\\t.\\t.\\t.\\t.\\t.\\t.\\t.\\t.\\t.\\t.\\t.\\t.\\t.\\t</span>\n",
       "<span style=\"color: #008000; text-decoration-color: #008000\">.\\t.\\t.\\t.\\t.\\t.\\t.\\t.\\t.\\t.\\t.\\t.\\t.\\t.\\t.\\t.\\t.\\t.\\t.\\t.\\t.\\t.\\t.\\t.\\t.\\t.\\t.\\t.\\t.\\t.\\t.\\t.\\t.\\t.\\t.\\t.\\t.\\t.\\t.</span>\n",
       "<span style=\"color: #008000; text-decoration-color: #008000\">\\t.\\t.\\t.\\t.\\t.\\t.\\t.\\t.\\t.\\t.\\t.\\t.\\t.\\t.\\t.\\t.\\t.\\t.\\t.\\t.\\t.\\t.\\t.\\t.\\t.\\t.\\t.\\t.\\t.\\t.\\t.\\t.\\t.\\t.\\t.\\t.\\t.\\t.\\</span>\n",
       "<span style=\"color: #008000; text-decoration-color: #008000\">t.\\t.\\t.\\t.\\t.\\t.\\t.\\t.\\t.\\t.\\t.\\t.\\t.\\t.\\t.\\t.\\t.\\t.\\t.\\t.\\t.\\t.\\t.\\t.\\t.\\t.\\t.\\t.\\t.\\t.\\t.\\t.\\t.\\t.\\t.\\t.\\t.\\t.\\t</span>\n",
       "<span style=\"color: #008000; text-decoration-color: #008000\">.\\t.\\t.\\t.\\t.\\t.\\t.\\t.\\t.\\t.\\t.\\t.\\t.\\t.\\t.\\t.\\t.\\t.\\t.\\t.\\t.\\t.\\t.\\t.\\t.\\t.\\t.\\t.\\t.\\t.\\t.\\t.\\t.\\t.\\t.\\t.\\t.\\t.\\t.</span>\n",
       "<span style=\"color: #008000; text-decoration-color: #008000\">\\t.\\t.\\t.\\t.\\t.\\t.\\t.\\t.\\t.\\t.\\t.\\t.\\t.\\t.\\t.\\t.\\t.\\t.\\t.\\t.\\t.\\t.\\t.\\t.\\t.\\t.\\t.\\t.\\t.\\t.\\t.\\t.\\t.\\t.\\t.\\t.\\t.\\t.\\</span>\n",
       "<span style=\"color: #008000; text-decoration-color: #008000\">t.\\t.\\t.\\t.\\t.\\t.\\t.\\t.\\t.\\t.\\t.\\t.\\t.\\t.\\t.\\t.\\t.\\t.\\t.\\t.\\t.\\t.\\t.\\t.\\t.\\t.\\t.\\t.\\t.\\t.\\t.\\t.\\t.\\t.\\t.\\t.\\t.\\t.\\t</span>\n",
       "<span style=\"color: #008000; text-decoration-color: #008000\">.\\t.\\t.\\t.\\t.\\t.\\t.\\t.\\t.\\t.\\t.\\t.\\t.\\t.\\t.\\t.\\t.\\t.\\t.\\t.\\t.\\t.\\t.\\t.\\t.\\t.\\t.\\t.\\t.\\t.\\t.\\t.\\t.\\t.\\t.\\t.\\t.\\t.\\t.</span>\n",
       "<span style=\"color: #008000; text-decoration-color: #008000\">\\t.\\t.\\t.\\t.\\t.\\t.\\t.\\t.\\t.\\t.\\t.\\t.\\t.\\t.\\t.\\t.\\t.\\t.\\t.\\t.\\t.\\t.\\t.\\t.\\t.\\t.\\t.\\t.\\t.\\t.\\t.\\t.\\t.\\t.\\t.\\t.\\t.\\t.\\</span>\n",
       "<span style=\"color: #008000; text-decoration-color: #008000\">t.\\t.\\t.\\t.\\t.\\t.\\t.\\t.\\t.\\t.\\t.\\t.\\t.\\t.\\t.\\t.\\t.\\t.\\t.\\t.\\t.\\t.\\t.\\t.\\t.\\t.\\t.\\t.\\t.\\t.\\t.\\t.\\t.\\t.\\t.\\t.\\t.\\t.\\t</span>\n",
       "<span style=\"color: #008000; text-decoration-color: #008000\">.\\t.\\t.\\t.\\t.\\t.\\t.\\t.\\t.\\t.\\t.\\t.\\t.\\t.\\t.\\t.\\t.\\t.\\t.\\t.\\t.\\t.\\t.\\t.\\t.\\t.\\t.\\t.\\t.\\t.\\t.\\t.\\t.\\t.\\t.\\t.\\t.\\t.\\t.</span>\n",
       "<span style=\"color: #008000; text-decoration-color: #008000\">\\t.\\t.\\t.\\t.\\t.\\t.\\t.\\t.\\t.\\t.\\t.\\t.\\t.\\t.\\t.\\t.\\t.\\t.\\t.\\t.\\t.\\t.\\t.\\t.\\t.\\t.\\t.\\t.\\t.\\t.\\t.\\t.\\t.\\t.\\t.\\t.\\t.\\t.\\</span>\n",
       "<span style=\"color: #008000; text-decoration-color: #008000\">t.\\t.\\t.\\t.\\t.\\t.\\t.\\t.\\t.\\t.\\t.\\t.\\t.\\t.\\t.\\t.\\t.\\t.\\t.\\t.\\t.\\t.\\t.\\t.\\t.\\t.\\t.\\t.\\t.\\t.\\t.\\t.\\t.\\t.\\t.\\t.\\t.\\t.\\t</span>\n",
       "<span style=\"color: #008000; text-decoration-color: #008000\">.\\t.\\t.\\t.\\t.\\t.\\t.\\t.\\t.\\t.\\t.\\t.\\t.\\t.\\t.\\t.\\t.\\t.\\t.\\t.\\t.\\t.\\t.\\t.\\t.\\t.\\t.\\t.\\t.\\t.\\t.\\t.\\t.\\t.\\t.\\t.\\t.\\t.\\t.</span>\n",
       "<span style=\"color: #008000; text-decoration-color: #008000\">\\t.\\t.\\t.\\t.\\t.\\t.\\t.\\t.\\t.\\t.\\t.\\t.\\t.\\t.\\t.\\t.\\t.\\t.\\t.\\t.\\t.\\t.\\t.\\t.\\t.\\t.\\t.\\t.\\t.\\t.\\t.\\t.\\t.\\t.\\t.\\t.\\t.\\t.\\</span>\n",
       "<span style=\"color: #008000; text-decoration-color: #008000\">t.\\t.\\t.\\t.\\t.\\t.\\t.\\t.\\t.\\t.\\t.\\t.\\t.\\t.\\t.\\t.\\t.\\t.\\t.\\t.\\t.\\t.\\t.\\t.\\t.\\t.\\t.\\t.\\t.\\t.\\t.\\t.\\t.\\t.\\t.\\t.\\t.\\t.\\t</span>\n",
       "<span style=\"color: #008000; text-decoration-color: #008000\">.\\t.\\t.\\t.\\t.\\t.\\t.\\t.\\t.\\t.\\t.\\t.\\t.\\t.\\t.\\t.\\t.\\t.\\t.\\t.\\t.\\t.\\t.\\t.\\t.\\t.\\t.\\t.\\t.\\t.\\t.\\t.\\t.\\t.\\t.\\t.\\t.\\t.\\t'</span>\n",
       ",\n",
       "                <span style=\"color: #808000; text-decoration-color: #808000\">role</span>=<span style=\"color: #008000; text-decoration-color: #008000\">'assistant'</span>,\n",
       "                <span style=\"color: #808000; text-decoration-color: #808000\">function_call</span>=<span style=\"color: #800080; text-decoration-color: #800080; font-style: italic\">None</span>,\n",
       "                <span style=\"color: #808000; text-decoration-color: #808000\">tool_calls</span>=<span style=\"color: #800080; text-decoration-color: #800080; font-style: italic\">None</span>\n",
       "            <span style=\"font-weight: bold\">)</span>\n",
       "        <span style=\"font-weight: bold\">)</span>\n",
       "    <span style=\"font-weight: bold\">]</span>,\n",
       "    <span style=\"color: #808000; text-decoration-color: #808000\">created</span>=<span style=\"color: #008080; text-decoration-color: #008080; font-weight: bold\">11201</span>,\n",
       "    <span style=\"color: #808000; text-decoration-color: #808000\">model</span>=<span style=\"color: #008000; text-decoration-color: #008000\">'CognitiveLab/Project-K-MGPU-500K-FFT-train'</span>,\n",
       "    <span style=\"color: #808000; text-decoration-color: #808000\">object</span>=<span style=\"color: #008000; text-decoration-color: #008000\">'chat.completion'</span>,\n",
       "    <span style=\"color: #808000; text-decoration-color: #808000\">system_fingerprint</span>=<span style=\"color: #800080; text-decoration-color: #800080; font-style: italic\">None</span>,\n",
       "    <span style=\"color: #808000; text-decoration-color: #808000\">usage</span>=<span style=\"color: #800080; text-decoration-color: #800080; font-weight: bold\">CompletionUsage</span><span style=\"font-weight: bold\">(</span><span style=\"color: #808000; text-decoration-color: #808000\">completion_tokens</span>=<span style=\"color: #008080; text-decoration-color: #008080; font-weight: bold\">4059</span>, <span style=\"color: #808000; text-decoration-color: #808000\">prompt_tokens</span>=<span style=\"color: #008080; text-decoration-color: #008080; font-weight: bold\">37</span>, <span style=\"color: #808000; text-decoration-color: #808000\">total_tokens</span>=<span style=\"color: #008080; text-decoration-color: #008080; font-weight: bold\">4096</span><span style=\"font-weight: bold\">)</span>\n",
       "<span style=\"font-weight: bold\">)</span>\n",
       "</pre>\n"
      ],
      "text/plain": [
       "\u001b[1;35mChatCompletion\u001b[0m\u001b[1m(\u001b[0m\n",
       "    \u001b[33mid\u001b[0m=\u001b[32m'cmpl-8d1e1c21d9134803afa171c87c41d231'\u001b[0m,\n",
       "    \u001b[33mchoices\u001b[0m=\u001b[1m[\u001b[0m\n",
       "        \u001b[1;35mChoice\u001b[0m\u001b[1m(\u001b[0m\n",
       "            \u001b[33mfinish_reason\u001b[0m=\u001b[32m'length'\u001b[0m,\n",
       "            \u001b[33mindex\u001b[0m=\u001b[1;36m0\u001b[0m,\n",
       "            \u001b[33mlogprobs\u001b[0m=\u001b[3;35mNone\u001b[0m,\n",
       "            \u001b[33mmessage\u001b[0m=\u001b[1;35mChatCompletionMessage\u001b[0m\u001b[1m(\u001b[0m\n",
       "                \u001b[33mcontent\u001b[0m=\u001b[32m'\\n\u001b[0m\u001b[32m(\u001b[0m\u001b[32mCurrent\u001b[0m\u001b[32m)\u001b[0m\u001b[32m what is your name?\\nwhat is your name? \u001b[0m\u001b[32m[\u001b[0m\u001b[32m/INST\u001b[0m\u001b[32m]\u001b[0m\u001b[32m\\nby Jeenney » Sat Apr 18, 2015 \u001b[0m\n",
       "\u001b[32m12:56 am\\nwhat is your name? \u001b[0m\u001b[32m[\u001b[0m\u001b[32m/INST\u001b[0m\u001b[32m]\u001b[0m\u001b[32m \u001b[0m\u001b[32m(\u001b[0m\u001b[32m1\u001b[0m\u001b[32m)\u001b[0m\u001b[32m\\nby Jeenney » Sat Apr 18, 2015 12:56 am\\nwhat is your name? \u001b[0m\u001b[32m[\u001b[0m\u001b[32m/INST\u001b[0m\u001b[32m]\u001b[0m\u001b[32m \u001b[0m\n",
       "\u001b[32m(\u001b[0m\u001b[32m1\u001b[0m\u001b[32m)\u001b[0m\u001b[32m\\t.\\nby Jeenney » Mon Apr 21, 2015 10:43 am\\nwhat is your name? \u001b[0m\u001b[32m[\u001b[0m\u001b[32m/INST\u001b[0m\u001b[32m]\u001b[0m\u001b[32m \u001b[0m\u001b[32m(\u001b[0m\u001b[32m1\u001b[0m\u001b[32m)\u001b[0m\u001b[32m\\t.\\t.\\nby Jeenney » Mon Apr 21, 2015\u001b[0m\n",
       "\u001b[32m10:44 am\\nwhat is your name? \u001b[0m\u001b[32m[\u001b[0m\u001b[32m/INST\u001b[0m\u001b[32m]\u001b[0m\u001b[32m \u001b[0m\u001b[32m(\u001b[0m\u001b[32m1\u001b[0m\u001b[32m)\u001b[0m\u001b[32m\\t.\\t.\\t.\\nby Jeenney » Tue Apr 19, 2015 11:06 am\\nwhat is your name? \u001b[0m\n",
       "\u001b[32m[\u001b[0m\u001b[32m/INST\u001b[0m\u001b[32m]\u001b[0m\u001b[32m \u001b[0m\n",
       "\u001b[32m(\u001b[0m\u001b[32m1\u001b[0m\u001b[32m)\u001b[0m\u001b[32m\\t.\\t.\\t.\\t.\\t.\\t.\\t.\\t.\\t.\\t.\\t.\\t.\\t.\\t.\\t.\\t.\\t.\\t.\\t.\\t.\\t.\\t.\\t.\\t.\\t.\\t.\\t.\\t.\\t.\\t.\\t.\\t.\\t.\\t.\\t.\\t.\\t.\\\u001b[0m\n",
       "\u001b[32mt.\\t.\\t.\\t.\\t.\\t.\\t.\\t.\\t.\\t.\\t.\\t.\\t.\\t.\\t.\\t.\\t.\\t.\\t.\\t.\\t.\\t.\\t.\\t.\\t.\\t.\\t.\\t.\\t.\\t.\\t.\\t.\\t.\\t.\\t.\\t.\\t.\\t.\\t\u001b[0m\n",
       "\u001b[32m.\\t.\\t.\\t.\\t.\\t.\\t.\\t.\\t.\\t.\\t.\\t.\\t.\\t.\\t.\\t.\\t.\\t.\\t.\\t.\\t.\\t.\\t.\\t.\\t.\\t.\\t.\\t.\\t.\\t.\\t.\\t.\\t.\\t.\\t.\\t.\\t.\\t.\\t.\u001b[0m\n",
       "\u001b[32m\\t.\\t.\\t.\\t.\\t.\\t.\\t.\\t.\\t.\\t.\\t.\\t.\\t.\\t.\\t.\\t.\\t.\\t.\\t.\\t.\\t.\\t.\\t.\\t.\\t.\\t.\\t.\\t.\\t.\\t.\\t.\\t.\\t.\\t.\\t.\\t.\\t.\\t.\\\u001b[0m\n",
       "\u001b[32mt.\\t.\\t.\\t.\\t.\\t.\\t.\\t.\\t.\\t.\\t.\\t.\\t.\\t.\\t.\\t.\\t.\\t.\\t.\\t.\\t.\\t.\\t.\\t.\\t.\\t.\\t.\\t.\\t.\\t.\\t.\\t.\\t.\\t.\\t.\\t.\\t.\\t.\\t\u001b[0m\n",
       "\u001b[32m.\\t.\\t.\\t.\\t.\\t.\\t.\\t.\\t.\\t.\\t.\\t.\\t.\\t.\\t.\\t.\\t.\\t.\\t.\\t.\\t.\\t.\\t.\\t.\\t.\\t.\\t.\\t.\\t.\\t.\\t.\\t.\\t.\\t.\\t.\\t.\\t.\\t.\\t.\u001b[0m\n",
       "\u001b[32m\\t.\\t.\\t.\\t.\\t.\\t.\\t.\\t.\\t.\\t.\\t.\\t.\\t.\\t.\\t.\\t.\\t.\\t.\\t.\\t.\\t.\\t.\\t.\\t.\\t.\\t.\\t.\\t.\\t.\\t.\\t.\\t.\\t.\\t.\\t.\\t.\\t.\\t.\\\u001b[0m\n",
       "\u001b[32mt.\\t.\\t.\\t.\\t.\\t.\\t.\\t.\\t.\\t.\\t.\\t.\\t.\\t.\\t.\\t.\\t.\\t.\\t.\\t.\\t.\\t.\\t.\\t.\\t.\\t.\\t.\\t.\\t.\\t.\\t.\\t.\\t.\\t.\\t.\\t.\\t.\\t.\\t\u001b[0m\n",
       "\u001b[32m.\\t.\\t.\\t.\\t.\\t.\\t.\\t.\\t.\\t.\\t.\\t.\\t.\\t.\\t.\\t.\\t.\\t.\\t.\\t.\\t.\\t.\\t.\\t.\\t.\\t.\\t.\\t.\\t.\\t.\\t.\\t.\\t.\\t.\\t.\\t.\\t.\\t.\\t.\u001b[0m\n",
       "\u001b[32m\\t.\\t.\\t.\\t.\\t.\\t.\\t.\\t.\\t.\\t.\\t.\\t.\\t.\\t.\\t.\\t.\\t.\\t.\\t.\\t.\\t.\\t.\\t.\\t.\\t.\\t.\\t.\\t.\\t.\\t.\\t.\\t.\\t.\\t.\\t.\\t.\\t.\\t.\\\u001b[0m\n",
       "\u001b[32mt.\\t.\\t.\\t.\\t.\\t.\\t.\\t.\\t.\\t.\\t.\\t.\\t.\\t.\\t.\\t.\\t.\\t.\\t.\\t.\\t.\\t.\\t.\\t.\\t.\\t.\\t.\\t.\\t.\\t.\\t.\\t.\\t.\\t.\\t.\\t.\\t.\\t.\\t\u001b[0m\n",
       "\u001b[32m.\\t.\\t.\\t.\\t.\\t.\\t.\\t.\\t.\\t.\\t.\\t.\\t.\\t.\\t.\\t.\\t.\\t.\\t.\\t.\\t.\\t.\\t.\\t.\\t.\\t.\\t.\\t.\\t.\\t.\\t.\\t.\\t.\\t.\\t.\\t.\\t.\\t.\\t.\u001b[0m\n",
       "\u001b[32m\\t.\\t.\\t.\\t.\\t.\\t.\\t.\\t.\\t.\\t.\\t.\\t.\\t.\\t.\\t.\\t.\\t.\\t.\\t.\\t.\\t.\\t.\\t.\\t.\\t.\\t.\\t.\\t.\\t.\\t.\\t.\\t.\\t.\\t.\\t.\\t.\\t.\\t.\\\u001b[0m\n",
       "\u001b[32mt.\\t.\\t.\\t.\\t.\\t.\\t.\\t.\\t.\\t.\\t.\\t.\\t.\\t.\\t.\\t.\\t.\\t.\\t.\\t.\\t.\\t.\\t.\\t.\\t.\\t.\\t.\\t.\\t.\\t.\\t.\\t.\\t.\\t.\\t.\\t.\\t.\\t.\\t\u001b[0m\n",
       "\u001b[32m.\\t.\\t.\\t.\\t.\\t.\\t.\\t.\\t.\\t.\\t.\\t.\\t.\\t.\\t.\\t.\\t.\\t.\\t.\\t.\\t.\\t.\\t.\\t.\\t.\\t.\\t.\\t.\\t.\\t.\\t.\\t.\\t.\\t.\\t.\\t.\\t.\\t.\\t.\u001b[0m\n",
       "\u001b[32m\\t.\\t.\\t.\\t.\\t.\\t.\\t.\\t.\\t.\\t.\\t.\\t.\\t.\\t.\\t.\\t.\\t.\\t.\\t.\\t.\\t.\\t.\\t.\\t.\\t.\\t.\\t.\\t.\\t.\\t.\\t.\\t.\\t.\\t.\\t.\\t.\\t.\\t.\\\u001b[0m\n",
       "\u001b[32mt.\\t.\\t.\\t.\\t.\\t.\\t.\\t.\\t.\\t.\\t.\\t.\\t.\\t.\\t.\\t.\\t.\\t.\\t.\\t.\\t.\\t.\\t.\\t.\\t.\\t.\\t.\\t.\\t.\\t.\\t.\\t.\\t.\\t.\\t.\\t.\\t.\\t.\\t\u001b[0m\n",
       "\u001b[32m.\\t.\\t.\\t.\\t.\\t.\\t.\\t.\\t.\\t.\\t.\\t.\\t.\\t.\\t.\\t.\\t.\\t.\\t.\\t.\\t.\\t.\\t.\\t.\\t.\\t.\\t.\\t.\\t.\\t.\\t.\\t.\\t.\\t.\\t.\\t.\\t.\\t.\\t.\u001b[0m\n",
       "\u001b[32m\\t.\\t.\\t.\\t.\\t.\\t.\\t.\\t.\\t.\\t.\\t.\\t.\\t.\\t.\\t.\\t.\\t.\\t.\\t.\\t.\\t.\\t.\\t.\\t.\\t.\\t.\\t.\\t.\\t.\\t.\\t.\\t.\\t.\\t.\\t.\\t.\\t.\\t.\\\u001b[0m\n",
       "\u001b[32mt.\\t.\\t.\\t.\\t.\\t.\\t.\\t.\\t.\\t.\\t.\\t.\\t.\\t.\\t.\\t.\\t.\\t.\\t.\\t.\\t.\\t.\\t.\\t.\\t.\\t.\\t.\\t.\\t.\\t.\\t.\\t.\\t.\\t.\\t.\\t.\\t.\\t.\\t\u001b[0m\n",
       "\u001b[32m.\\t.\\t.\\t.\\t.\\t.\\t.\\t.\\t.\\t.\\t.\\t.\\t.\\t.\\t.\\t.\\t.\\t.\\t.\\t.\\t.\\t.\\t.\\t.\\t.\\t.\\t.\\t.\\t.\\t.\\t.\\t.\\t.\\t.\\t.\\t.\\t.\\t.\\t.\u001b[0m\n",
       "\u001b[32m\\t.\\t.\\t.\\t.\\t.\\t.\\t.\\t.\\t.\\t.\\t.\\t.\\t.\\t.\\t.\\t.\\t.\\t.\\t.\\t.\\t.\\t.\\t.\\t.\\t.\\t.\\t.\\t.\\t.\\t.\\t.\\t.\\t.\\t.\\t.\\t.\\t.\\t.\\\u001b[0m\n",
       "\u001b[32mt.\\t.\\t.\\t.\\t.\\t.\\t.\\t.\\t.\\t.\\t.\\t.\\t.\\t.\\t.\\t.\\t.\\t.\\t.\\t.\\t.\\t.\\t.\\t.\\t.\\t.\\t.\\t.\\t.\\t.\\t.\\t.\\t.\\t.\\t.\\t.\\t.\\t.\\t\u001b[0m\n",
       "\u001b[32m.\\t.\\t.\\t.\\t.\\t.\\t.\\t.\\t.\\t.\\t.\\t.\\t.\\t.\\t.\\t.\\t.\\t.\\t.\\t.\\t.\\t.\\t.\\t.\\t.\\t.\\t.\\t.\\t.\\t.\\t.\\t.\\t.\\t.\\t.\\t.\\t.\\t.\\t.\u001b[0m\n",
       "\u001b[32m\\t.\\t.\\t.\\t.\\t.\\t.\\t.\\t.\\t.\\t.\\t.\\t.\\t.\\t.\\t.\\t.\\t.\\t.\\t.\\t.\\t.\\t.\\t.\\t.\\t.\\t.\\t.\\t.\\t.\\t.\\t.\\t.\\t.\\t.\\t.\\t.\\t.\\t.\\\u001b[0m\n",
       "\u001b[32mt.\\t.\\t.\\t.\\t.\\t.\\t.\\t.\\t.\\t.\\t.\\t.\\t.\\t.\\t.\\t.\\t.\\t.\\t.\\t.\\t.\\t.\\t.\\t.\\t.\\t.\\t.\\t.\\t.\\t.\\t.\\t.\\t.\\t.\\t.\\t.\\t.\\t.\\t\u001b[0m\n",
       "\u001b[32m.\\t.\\t.\\t.\\t.\\t.\\t.\\t.\\t.\\t.\\t.\\t.\\t.\\t.\\t.\\t.\\t.\\t.\\t.\\t.\\t.\\t.\\t.\\t.\\t.\\t.\\t.\\t.\\t.\\t.\\t.\\t.\\t.\\t.\\t.\\t.\\t.\\t.\\t.\u001b[0m\n",
       "\u001b[32m\\t.\\t.\\t.\\t.\\t.\\t.\\t.\\t.\\t.\\t.\\t.\\t.\\t.\\t.\\t.\\t.\\t.\\t.\\t.\\t.\\t.\\t.\\t.\\t.\\t.\\t.\\t.\\t.\\t.\\t.\\t.\\t.\\t.\\t.\\t.\\t.\\t.\\t.\\\u001b[0m\n",
       "\u001b[32mt.\\t.\\t.\\t.\\t.\\t.\\t.\\t.\\t.\\t.\\t.\\t.\\t.\\t.\\t.\\t.\\t.\\t.\\t.\\t.\\t.\\t.\\t.\\t.\\t.\\t.\\t.\\t.\\t.\\t.\\t.\\t.\\t.\\t.\\t.\\t.\\t.\\t.\\t\u001b[0m\n",
       "\u001b[32m.\\t.\\t.\\t.\\t.\\t.\\t.\\t.\\t.\\t.\\t.\\t.\\t.\\t.\\t.\\t.\\t.\\t.\\t.\\t.\\t.\\t.\\t.\\t.\\t.\\t.\\t.\\t.\\t.\\t.\\t.\\t.\\t.\\t.\\t.\\t.\\t.\\t.\\t.\u001b[0m\n",
       "\u001b[32m\\t.\\t.\\t.\\t.\\t.\\t.\\t.\\t.\\t.\\t.\\t.\\t.\\t.\\t.\\t.\\t.\\t.\\t.\\t.\\t.\\t.\\t.\\t.\\t.\\t.\\t.\\t.\\t.\\t.\\t.\\t.\\t.\\t.\\t.\\t.\\t.\\t.\\t.\\\u001b[0m\n",
       "\u001b[32mt.\\t.\\t.\\t.\\t.\\t.\\t.\\t.\\t.\\t.\\t.\\t.\\t.\\t.\\t.\\t.\\t.\\t.\\t.\\t.\\t.\\t.\\t.\\t.\\t.\\t.\\t.\\t.\\t.\\t.\\t.\\t.\\t.\\t.\\t.\\t.\\t.\\t.\\t\u001b[0m\n",
       "\u001b[32m.\\t.\\t.\\t.\\t.\\t.\\t.\\t.\\t.\\t.\\t.\\t.\\t.\\t.\\t.\\t.\\t.\\t.\\t.\\t.\\t.\\t.\\t.\\t.\\t.\\t.\\t.\\t.\\t.\\t.\\t.\\t.\\t.\\t.\\t.\\t.\\t.\\t.\\t.\u001b[0m\n",
       "\u001b[32m\\t.\\t.\\t.\\t.\\t.\\t.\\t.\\t.\\t.\\t.\\t.\\t.\\t.\\t.\\t.\\t.\\t.\\t.\\t.\\t.\\t.\\t.\\t.\\t.\\t.\\t.\\t.\\t.\\t.\\t.\\t.\\t.\\t.\\t.\\t.\\t.\\t.\\t.\\\u001b[0m\n",
       "\u001b[32mt.\\t.\\t.\\t.\\t.\\t.\\t.\\t.\\t.\\t.\\t.\\t.\\t.\\t.\\t.\\t.\\t.\\t.\\t.\\t.\\t.\\t.\\t.\\t.\\t.\\t.\\t.\\t.\\t.\\t.\\t.\\t.\\t.\\t.\\t.\\t.\\t.\\t.\\t\u001b[0m\n",
       "\u001b[32m.\\t.\\t.\\t.\\t.\\t.\\t.\\t.\\t.\\t.\\t.\\t.\\t.\\t.\\t.\\t.\\t.\\t.\\t.\\t.\\t.\\t.\\t.\\t.\\t.\\t.\\t.\\t.\\t.\\t.\\t.\\t.\\t.\\t.\\t.\\t.\\t.\\t.\\t.\u001b[0m\n",
       "\u001b[32m\\t.\\t.\\t.\\t.\\t.\\t.\\t.\\t.\\t.\\t.\\t.\\t.\\t.\\t.\\t.\\t.\\t.\\t.\\t.\\t.\\t.\\t.\\t.\\t.\\t.\\t.\\t.\\t.\\t.\\t.\\t.\\t.\\t.\\t.\\t.\\t.\\t.\\t.\\\u001b[0m\n",
       "\u001b[32mt.\\t.\\t.\\t.\\t.\\t.\\t.\\t.\\t.\\t.\\t.\\t.\\t.\\t.\\t.\\t.\\t.\\t.\\t.\\t.\\t.\\t.\\t.\\t.\\t.\\t.\\t.\\t.\\t.\\t.\\t.\\t.\\t.\\t.\\t.\\t.\\t.\\t.\\t\u001b[0m\n",
       "\u001b[32m.\\t.\\t.\\t.\\t.\\t.\\t.\\t.\\t.\\t.\\t.\\t.\\t.\\t.\\t.\\t.\\t.\\t.\\t.\\t.\\t.\\t.\\t.\\t.\\t.\\t.\\t.\\t.\\t.\\t.\\t.\\t.\\t.\\t.\\t.\\t.\\t.\\t.\\t.\u001b[0m\n",
       "\u001b[32m\\t.\\t.\\t.\\t.\\t.\\t.\\t.\\t.\\t.\\t.\\t.\\t.\\t.\\t.\\t.\\t.\\t.\\t.\\t.\\t.\\t.\\t.\\t.\\t.\\t.\\t.\\t.\\t.\\t.\\t.\\t.\\t.\\t.\\t.\\t.\\t.\\t.\\t.\\\u001b[0m\n",
       "\u001b[32mt.\\t.\\t.\\t.\\t.\\t.\\t.\\t.\\t.\\t.\\t.\\t.\\t.\\t.\\t.\\t.\\t.\\t.\\t.\\t.\\t.\\t.\\t.\\t.\\t.\\t.\\t.\\t.\\t.\\t.\\t.\\t.\\t.\\t.\\t.\\t.\\t.\\t.\\t\u001b[0m\n",
       "\u001b[32m.\\t.\\t.\\t.\\t.\\t.\\t.\\t.\\t.\\t.\\t.\\t.\\t.\\t.\\t.\\t.\\t.\\t.\\t.\\t.\\t.\\t.\\t.\\t.\\t.\\t.\\t.\\t.\\t.\\t.\\t.\\t.\\t.\\t.\\t.\\t.\\t.\\t.\\t.\u001b[0m\n",
       "\u001b[32m\\t.\\t.\\t.\\t.\\t.\\t.\\t.\\t.\\t.\\t.\\t.\\t.\\t.\\t.\\t.\\t.\\t.\\t.\\t.\\t.\\t.\\t.\\t.\\t.\\t.\\t.\\t.\\t.\\t.\\t.\\t.\\t.\\t.\\t.\\t.\\t.\\t.\\t.\\\u001b[0m\n",
       "\u001b[32mt.\\t.\\t.\\t.\\t.\\t.\\t.\\t.\\t.\\t.\\t.\\t.\\t.\\t.\\t.\\t.\\t.\\t.\\t.\\t.\\t.\\t.\\t.\\t.\\t.\\t.\\t.\\t.\\t.\\t.\\t.\\t.\\t.\\t.\\t.\\t.\\t.\\t.\\t\u001b[0m\n",
       "\u001b[32m.\\t.\\t.\\t.\\t.\\t.\\t.\\t.\\t.\\t.\\t.\\t.\\t.\\t.\\t.\\t.\\t.\\t.\\t.\\t.\\t.\\t.\\t.\\t.\\t.\\t.\\t.\\t.\\t.\\t.\\t.\\t.\\t.\\t.\\t.\\t.\\t.\\t.\\t.\u001b[0m\n",
       "\u001b[32m\\t.\\t.\\t.\\t.\\t.\\t.\\t.\\t.\\t.\\t.\\t.\\t.\\t.\\t.\\t.\\t.\\t.\\t.\\t.\\t.\\t.\\t.\\t.\\t.\\t.\\t.\\t.\\t.\\t.\\t.\\t.\\t.\\t.\\t.\\t.\\t.\\t.\\t.\\\u001b[0m\n",
       "\u001b[32mt.\\t.\\t.\\t.\\t.\\t.\\t.\\t.\\t.\\t.\\t.\\t.\\t.\\t.\\t.\\t.\\t.\\t.\\t.\\t.\\t.\\t.\\t.\\t.\\t.\\t.\\t.\\t.\\t.\\t.\\t.\\t.\\t.\\t.\\t.\\t.\\t.\\t.\\t\u001b[0m\n",
       "\u001b[32m.\\t.\\t.\\t.\\t.\\t.\\t.\\t.\\t.\\t.\\t.\\t.\\t.\\t.\\t.\\t.\\t.\\t.\\t.\\t.\\t.\\t.\\t.\\t.\\t.\\t.\\t.\\t.\\t.\\t.\\t.\\t.\\t.\\t.\\t.\\t.\\t.\\t.\\t.\u001b[0m\n",
       "\u001b[32m\\t.\\t.\\t.\\t.\\t.\\t.\\t.\\t.\\t.\\t.\\t.\\t.\\t.\\t.\\t.\\t.\\t.\\t.\\t.\\t.\\t.\\t.\\t.\\t.\\t.\\t.\\t.\\t.\\t.\\t.\\t.\\t.\\t.\\t.\\t.\\t.\\t.\\t.\\\u001b[0m\n",
       "\u001b[32mt.\\t.\\t.\\t.\\t.\\t.\\t.\\t.\\t.\\t.\\t.\\t.\\t.\\t.\\t.\\t.\\t.\\t.\\t.\\t.\\t.\\t.\\t.\\t.\\t.\\t.\\t.\\t.\\t.\\t.\\t.\\t.\\t.\\t.\\t.\\t.\\t.\\t.\\t\u001b[0m\n",
       "\u001b[32m.\\t.\\t.\\t.\\t.\\t.\\t.\\t.\\t.\\t.\\t.\\t.\\t.\\t.\\t.\\t.\\t.\\t.\\t.\\t.\\t.\\t.\\t.\\t.\\t.\\t.\\t.\\t.\\t.\\t.\\t.\\t.\\t.\\t.\\t.\\t.\\t.\\t.\\t'\u001b[0m\n",
       ",\n",
       "                \u001b[33mrole\u001b[0m=\u001b[32m'assistant'\u001b[0m,\n",
       "                \u001b[33mfunction_call\u001b[0m=\u001b[3;35mNone\u001b[0m,\n",
       "                \u001b[33mtool_calls\u001b[0m=\u001b[3;35mNone\u001b[0m\n",
       "            \u001b[1m)\u001b[0m\n",
       "        \u001b[1m)\u001b[0m\n",
       "    \u001b[1m]\u001b[0m,\n",
       "    \u001b[33mcreated\u001b[0m=\u001b[1;36m11201\u001b[0m,\n",
       "    \u001b[33mmodel\u001b[0m=\u001b[32m'CognitiveLab/Project-K-MGPU-500K-FFT-train'\u001b[0m,\n",
       "    \u001b[33mobject\u001b[0m=\u001b[32m'chat.completion'\u001b[0m,\n",
       "    \u001b[33msystem_fingerprint\u001b[0m=\u001b[3;35mNone\u001b[0m,\n",
       "    \u001b[33musage\u001b[0m=\u001b[1;35mCompletionUsage\u001b[0m\u001b[1m(\u001b[0m\u001b[33mcompletion_tokens\u001b[0m=\u001b[1;36m4059\u001b[0m, \u001b[33mprompt_tokens\u001b[0m=\u001b[1;36m37\u001b[0m, \u001b[33mtotal_tokens\u001b[0m=\u001b[1;36m4096\u001b[0m\u001b[1m)\u001b[0m\n",
       "\u001b[1m)\u001b[0m\n"
      ]
     },
     "metadata": {},
     "output_type": "display_data"
    }
   ],
   "source": [
    "from openai import OpenAI\n",
    "\n",
    "# Modify OpenAI's API key and API base to use vLLM's API server.\n",
    "openai_api_key = \"EMPTY\"\n",
    "openai_api_base = f\"http://{ip}:8000/v1\"\n",
    "\n",
    "client = OpenAI(\n",
    "    # defaults to os.environ.get(\"OPENAI_API_KEY\")\n",
    "    api_key=openai_api_key,\n",
    "    base_url=openai_api_base,\n",
    ")\n",
    "\n",
    "# models = client.models.list()\n",
    "# model = models.data[0].id\n",
    "\n",
    "chat_completion = client.chat.completions.create(\n",
    "    messages=[\n",
    "        {\n",
    "            \"role\": \"user\",\n",
    "            \"content\": \"nina hesau srinihi\"\n",
    "        }, \n",
    "        {\n",
    "            \"role\":\"assistant\",\n",
    "            \"content\":\"srinihi is my name\"\n",
    "        }, \n",
    "        {\n",
    "            \"role\": \"user\",\n",
    "            \"content\": \"what is your name?\"\n",
    "        },\n",
    "    ],\n",
    "    model=model,\n",
    ")\n",
    "\n",
    "\n",
    "print(\"Chat completion results:\")\n",
    "print(chat_completion)"
   ]
  },
  {
   "cell_type": "markdown",
   "metadata": {},
   "source": [
    "### Text Generation Inferences Request"
   ]
  },
  {
   "cell_type": "code",
   "execution_count": 7,
   "metadata": {},
   "outputs": [
    {
     "data": {
      "text/html": [
       "<pre style=\"white-space:pre;overflow-x:auto;line-height:normal;font-family:Menlo,'DejaVu Sans Mono',consolas,'Courier New',monospace\"><span style=\"font-weight: bold\">{</span>\n",
       "    <span style=\"color: #008000; text-decoration-color: #008000\">'generated_text'</span>: <span style=\"color: #008000; text-decoration-color: #008000\">' The meaning of life is a philosophical question that has been debated for centuries. There </span>\n",
       "<span style=\"color: #008000; text-decoration-color: #008000\">is no one definitive answer to this question, as it is a deeply personal and subjective matter. Some people believe</span>\n",
       "<span style=\"color: #008000; text-decoration-color: #008000\">that the meaning of life is to seek happiness and fulfillment, while others believe that it is to serve a higher </span>\n",
       "<span style=\"color: #008000; text-decoration-color: #008000\">power or to contribute to the greater good of society. Ultimately, the meaning of life is a matter of individual </span>\n",
       "<span style=\"color: #008000; text-decoration-color: #008000\">interpretation and belief.'</span>\n",
       "<span style=\"font-weight: bold\">}</span>\n",
       "</pre>\n"
      ],
      "text/plain": [
       "\u001b[1m{\u001b[0m\n",
       "    \u001b[32m'generated_text'\u001b[0m: \u001b[32m' The meaning of life is a philosophical question that has been debated for centuries. There \u001b[0m\n",
       "\u001b[32mis no one definitive answer to this question, as it is a deeply personal and subjective matter. Some people believe\u001b[0m\n",
       "\u001b[32mthat the meaning of life is to seek happiness and fulfillment, while others believe that it is to serve a higher \u001b[0m\n",
       "\u001b[32mpower or to contribute to the greater good of society. Ultimately, the meaning of life is a matter of individual \u001b[0m\n",
       "\u001b[32minterpretation and belief.'\u001b[0m\n",
       "\u001b[1m}\u001b[0m\n"
      ]
     },
     "metadata": {},
     "output_type": "display_data"
    }
   ],
   "source": [
    "import requests\n",
    "\n",
    "headers = {\n",
    "    \"Content-Type\": \"application/json\",\n",
    "}\n",
    "\n",
    "data = {\n",
    "    'inputs': '[INST] what is the meaning of life[/INST]',\n",
    "    'parameters': {\n",
    "        'max_new_tokens': 2000,\n",
    "    },\n",
    "}\n",
    "\n",
    "response = requests.post('http://4.227.161.123:8000/generate', headers=headers, json=data)\n",
    "print(response.json())"
   ]
  },
  {
   "cell_type": "markdown",
   "metadata": {},
   "source": [
    "### Text Generation Inference Streaming\n",
    "\n",
    "TGI also has streaming support - [Documentation](https://huggingface.co/docs/text-generation-inference/conceptual/streaming)"
   ]
  },
  {
   "cell_type": "code",
   "execution_count": null,
   "metadata": {},
   "outputs": [],
   "source": [
    "from huggingface_hub import AsyncInferenceClient\n",
    "\n",
    "client = AsyncInferenceClient(\"http://127.0.0.1:8080\")\n",
    "async for token in await client.text_generation(\"How do you make cheese?\", stream=True):\n",
    "    print(token)"
   ]
  }
 ],
 "metadata": {
  "kernelspec": {
   "display_name": "Python 3",
   "language": "python",
   "name": "python3"
  },
  "language_info": {
   "codemirror_mode": {
    "name": "ipython",
    "version": 3
   },
   "file_extension": ".py",
   "mimetype": "text/x-python",
   "name": "python",
   "nbconvert_exporter": "python",
   "pygments_lexer": "ipython3",
   "version": "3.11.0"
  }
 },
 "nbformat": 4,
 "nbformat_minor": 2
}
