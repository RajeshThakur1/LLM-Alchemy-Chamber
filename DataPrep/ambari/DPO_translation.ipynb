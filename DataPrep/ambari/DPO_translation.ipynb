{
 "cells": [
  {
   "cell_type": "code",
   "execution_count": 3,
   "metadata": {},
   "outputs": [
    {
     "name": "stdout",
     "output_type": "stream",
     "text": [
      "Is server ready - True\n",
      "\n",
      "When I was young, I used to go to the park every day.\n",
      "ನಾನು ಚಿಕ್ಕವಳಿದ್ದಾಗ, ಪ್ರತಿದಿನ ಉದ್ಯಾನವನಕ್ಕೆ ಹೋಗುತ್ತಿದ್ದೆ.\n",
      "\n",
      "He has many old books, which he inherited from his ancestors.\n",
      "ಅವರು ತಮ್ಮ ಪೂರ್ವಜರಿಂದ ಆನುವಂಶಿಕವಾಗಿ ಪಡೆದ ಅನೇಕ ಹಳೆಯ ಪುಸ್ತಕಗಳನ್ನು ಹೊಂದಿದ್ದಾರೆ.\n",
      "\n",
      "I can't figure out how to solve my problem.\n",
      "ನನ್ನ ಸಮಸ್ಯೆಯನ್ನು ಹೇಗೆ ಪರಿಹರಿಸಬೇಕೆಂದು ನನಗೆ ಅರ್ಥವಾಗುತ್ತಿಲ್ಲ.\n",
      "\n",
      "She is very hardworking and intelligent, which is why she got all the good marks.\n",
      "ಅವಳು ತುಂಬಾ ಕಷ್ಟಪಟ್ಟು ದುಡಿಯುವವಳು ಮತ್ತು ಬುದ್ಧಿವಂತಳು, ಅದಕ್ಕಾಗಿಯೇ ಅವಳು ಎಲ್ಲಾ ಉತ್ತಮ ಅಂಕಗಳನ್ನು ಪಡೆದಳು.\n",
      "\n",
      "We watched a new movie last week, which was very inspiring.\n",
      "ನಾವು ಕಳೆದ ವಾರ ಹೊಸ ಚಲನಚಿತ್ರವೊಂದನ್ನು ನೋಡಿದೆವು, ಅದು ಬಹಳ ಸ್ಪೂರ್ತಿದಾಯಕವಾಗಿತ್ತು.\n",
      "\n",
      "If you had met me at that time, we would have gone out to eat.\n",
      "ಆ ಸಮಯದಲ್ಲಿ ನೀವು ನನ್ನನ್ನು ಭೇಟಿಯಾಗಿದ್ದರೆ, ನಾವು ತಿನ್ನಲು ಹೊರಗೆ ಹೋಗುತ್ತಿದ್ದೆವು.\n",
      "\n",
      "She went to the market with her sister to buy a new sari.\n",
      "ಆಕೆ ತನ್ನ ಸಹೋದರಿಯೊಂದಿಗೆ ಹೊಸ ಸೀರೆಯನ್ನು ಖರೀದಿಸಲು ಮಾರುಕಟ್ಟೆಗೆ ಹೋದಳು.\n",
      "\n",
      "Raj told me that he is going to his grandmother's house next month.\n",
      "ಮುಂದಿನ ತಿಂಗಳು ತನ್ನ ಅಜ್ಜಿಯ ಮನೆಗೆ ಹೋಗುತ್ತಿದ್ದೇನೆ ಎಂದು ರಾಜ್ ನನಗೆ ಹೇಳಿದನು.\n",
      "\n",
      "All the kids were having fun at the party and were eating lots of sweets.\n",
      "ಎಲ್ಲಾ ಮಕ್ಕಳು ಪಾರ್ಟಿಯಲ್ಲಿ ಮೋಜು ಮಾಡುತ್ತಿದ್ದರು ಮತ್ತು ಸಾಕಷ್ಟು ಸಿಹಿತಿಂಡಿಗಳನ್ನು ತಿನ್ನುತ್ತಿದ್ದರು.\n",
      "\n",
      "My friend has invited me to his birthday party, and I will give him a gift.\n",
      "ನನ್ನ ಸ್ನೇಹಿತ ತನ್ನ ಹುಟ್ಟುಹಬ್ಬದ ಸಂತೋಷಕೂಟಕ್ಕೆ ನನ್ನನ್ನು ಆಹ್ವಾನಿಸಿದ್ದಾನೆ ಮತ್ತು ನಾನು ಅವನಿಗೆ ಉಡುಗೊರೆಯನ್ನು ನೀಡುತ್ತೇನೆ.\n"
     ]
    }
   ],
   "source": [
    "import tritonclient.http as http_client\n",
    "from tritonclient.utils import *\n",
    "import numpy as np\n",
    "\n",
    "ENABLE_SSL = False\n",
    "ENDPOINT_URL = '52.151.255.217:8000'\n",
    "HTTP_HEADERS = {\"Authorization\": \"Bearer __PASTE_KEY_HERE__\"}\n",
    "\n",
    "# Connect to the server\n",
    "if ENABLE_SSL:\n",
    "    import gevent.ssl\n",
    "    triton_http_client = http_client.InferenceServerClient(\n",
    "        url=ENDPOINT_URL, verbose=False,\n",
    "        ssl=True, ssl_context_factory=gevent.ssl._create_default_https_context,\n",
    "    )\n",
    "else:\n",
    "    triton_http_client = http_client.InferenceServerClient(\n",
    "        url=ENDPOINT_URL, verbose=False,\n",
    "    )\n",
    "\n",
    "print(\"Is server ready - {}\".format(triton_http_client.is_server_ready(headers=HTTP_HEADERS)))\n",
    "\n",
    "def get_string_tensor(string_values, tensor_name):\n",
    "    string_obj = np.array(string_values, dtype=\"object\")\n",
    "    input_obj = http_client.InferInput(tensor_name, string_obj.shape, np_to_triton_dtype(string_obj.dtype))\n",
    "    input_obj.set_data_from_numpy(string_obj)\n",
    "    return input_obj\n",
    "\n",
    "def get_translation_input_for_triton(texts: list, src_lang: str, tgt_lang: str):\n",
    "    return [\n",
    "        get_string_tensor([[text] for text in texts], \"INPUT_TEXT\"),\n",
    "        get_string_tensor([[src_lang]] * len(texts), \"INPUT_LANGUAGE_ID\"),\n",
    "        get_string_tensor([[tgt_lang]] * len(texts), \"OUTPUT_LANGUAGE_ID\"),\n",
    "    ]\n",
    "\n",
    "# Prepare input and output tensors\n",
    "input_sentences = [\n",
    "    \"When I was young, I used to go to the park every day.\",\n",
    "    \"He has many old books, which he inherited from his ancestors.\",\n",
    "    \"I can't figure out how to solve my problem.\",\n",
    "    \"She is very hardworking and intelligent, which is why she got all the good marks.\",\n",
    "    \"We watched a new movie last week, which was very inspiring.\",\n",
    "    \"If you had met me at that time, we would have gone out to eat.\",\n",
    "    \"She went to the market with her sister to buy a new sari.\",\n",
    "    \"Raj told me that he is going to his grandmother's house next month.\",\n",
    "    \"All the kids were having fun at the party and were eating lots of sweets.\",\n",
    "    \"My friend has invited me to his birthday party, and I will give him a gift.\",\n",
    "]\n",
    "inputs = get_translation_input_for_triton(input_sentences, \"en\", \"kn\")\n",
    "output0 = http_client.InferRequestedOutput(\"OUTPUT_TEXT\")\n",
    "\n",
    "# Send request\n",
    "response = triton_http_client.infer(\n",
    "    \"nmt\",\n",
    "    model_version='1',\n",
    "    inputs=inputs,\n",
    "    outputs=[output0],\n",
    "    headers=HTTP_HEADERS,\n",
    ")#.get_response()\n",
    "\n",
    "# Decode the response\n",
    "output_batch = response.as_numpy('OUTPUT_TEXT').tolist()\n",
    "for input_sentence, translation in zip(input_sentences, output_batch):\n",
    "    print()\n",
    "    print(input_sentence)\n",
    "    print(translation[0].decode(\"utf-8\"))"
   ]
  },
  {
   "cell_type": "code",
   "execution_count": 4,
   "metadata": {},
   "outputs": [],
   "source": [
    "from huggingface_hub import notebook_login\n",
    "from datasets import load_dataset\n"
   ]
  },
  {
   "cell_type": "code",
   "execution_count": 4,
   "metadata": {},
   "outputs": [
    {
     "data": {
      "application/vnd.jupyter.widget-view+json": {
       "model_id": "e2a4232ac0104c778aaa136b2960c246",
       "version_major": 2,
       "version_minor": 0
      },
      "text/plain": [
       "Downloading readme:   0%|          | 0.00/5.77k [00:00<?, ?B/s]"
      ]
     },
     "metadata": {},
     "output_type": "display_data"
    },
    {
     "data": {
      "application/vnd.jupyter.widget-view+json": {
       "model_id": "d142ea9c95244091b11f4d375cc490e0",
       "version_major": 2,
       "version_minor": 0
      },
      "text/plain": [
       "Downloading data:   0%|          | 0.00/13.2M [00:00<?, ?B/s]"
      ]
     },
     "metadata": {},
     "output_type": "display_data"
    },
    {
     "data": {
      "application/vnd.jupyter.widget-view+json": {
       "model_id": "acb81e7334a5423e85683045739ebe07",
       "version_major": 2,
       "version_minor": 0
      },
      "text/plain": [
       "Downloading data:   0%|          | 0.00/16.2M [00:00<?, ?B/s]"
      ]
     },
     "metadata": {},
     "output_type": "display_data"
    },
    {
     "data": {
      "application/vnd.jupyter.widget-view+json": {
       "model_id": "46cb6b95fd9446feba844db0e548fd37",
       "version_major": 2,
       "version_minor": 0
      },
      "text/plain": [
       "Downloading data:   0%|          | 0.00/20.1M [00:00<?, ?B/s]"
      ]
     },
     "metadata": {},
     "output_type": "display_data"
    },
    {
     "data": {
      "application/vnd.jupyter.widget-view+json": {
       "model_id": "e596a80f52b549a0ad5337b9e28e95d9",
       "version_major": 2,
       "version_minor": 0
      },
      "text/plain": [
       "Downloading data:   0%|          | 0.00/25.7M [00:00<?, ?B/s]"
      ]
     },
     "metadata": {},
     "output_type": "display_data"
    },
    {
     "data": {
      "application/vnd.jupyter.widget-view+json": {
       "model_id": "d27c2a8a06b141168e3d5b7cff8cbaa5",
       "version_major": 2,
       "version_minor": 0
      },
      "text/plain": [
       "Downloading data:   0%|          | 0.00/743k [00:00<?, ?B/s]"
      ]
     },
     "metadata": {},
     "output_type": "display_data"
    },
    {
     "data": {
      "application/vnd.jupyter.widget-view+json": {
       "model_id": "aa4f688bf3ae4abbb151c025a1d75c1e",
       "version_major": 2,
       "version_minor": 0
      },
      "text/plain": [
       "Downloading data:   0%|          | 0.00/875k [00:00<?, ?B/s]"
      ]
     },
     "metadata": {},
     "output_type": "display_data"
    },
    {
     "data": {
      "application/vnd.jupyter.widget-view+json": {
       "model_id": "9a7722a03ff04c1e8ddded71d9bb40a9",
       "version_major": 2,
       "version_minor": 0
      },
      "text/plain": [
       "Downloading data:   0%|          | 0.00/1.05M [00:00<?, ?B/s]"
      ]
     },
     "metadata": {},
     "output_type": "display_data"
    },
    {
     "data": {
      "application/vnd.jupyter.widget-view+json": {
       "model_id": "0046f95b4a70431c86ada68588941753",
       "version_major": 2,
       "version_minor": 0
      },
      "text/plain": [
       "Downloading data:   0%|          | 0.00/1.36M [00:00<?, ?B/s]"
      ]
     },
     "metadata": {},
     "output_type": "display_data"
    },
    {
     "data": {
      "application/vnd.jupyter.widget-view+json": {
       "model_id": "18199e9dbc684a48b55f1038e88886db",
       "version_major": 2,
       "version_minor": 0
      },
      "text/plain": [
       "Generating train split: 0 examples [00:00, ? examples/s]"
      ]
     },
     "metadata": {},
     "output_type": "display_data"
    },
    {
     "data": {
      "application/vnd.jupyter.widget-view+json": {
       "model_id": "3f733e0c442c4f5bbb4084d6947a6631",
       "version_major": 2,
       "version_minor": 0
      },
      "text/plain": [
       "Generating test split: 0 examples [00:00, ? examples/s]"
      ]
     },
     "metadata": {},
     "output_type": "display_data"
    }
   ],
   "source": [
    "dataset = load_dataset(\"Anthropic/hh-rlhf\")"
   ]
  },
  {
   "cell_type": "code",
   "execution_count": 5,
   "metadata": {},
   "outputs": [
    {
     "data": {
      "text/plain": [
       "DatasetDict({\n",
       "    train: Dataset({\n",
       "        features: ['chosen', 'rejected'],\n",
       "        num_rows: 160800\n",
       "    })\n",
       "    test: Dataset({\n",
       "        features: ['chosen', 'rejected'],\n",
       "        num_rows: 8552\n",
       "    })\n",
       "})"
      ]
     },
     "execution_count": 5,
     "metadata": {},
     "output_type": "execute_result"
    }
   ],
   "source": [
    "dataset"
   ]
  },
  {
   "cell_type": "code",
   "execution_count": 16,
   "metadata": {},
   "outputs": [
    {
     "name": "stdout",
     "output_type": "stream",
     "text": [
      "Is server ready - True\n"
     ]
    }
   ],
   "source": [
    "import tritonclient.http as http_client\n",
    "import numpy as np\n",
    "from datasets import load_dataset\n",
    "from tqdm import tqdm\n",
    "import pandas as pd\n",
    "\n",
    "\n",
    "ENABLE_SSL = False\n",
    "ENDPOINT_URL = '52.151.255.217:8000'\n",
    "HTTP_HEADERS = {\"Authorization\": \"Bearer __PASTE_KEY_HERE__\"}\n",
    "\n",
    "# Connect to the server\n",
    "if ENABLE_SSL:\n",
    "    import gevent.ssl\n",
    "    triton_http_client = http_client.InferenceServerClient(\n",
    "        url=ENDPOINT_URL, verbose=False,\n",
    "        ssl=True, ssl_context_factory=gevent.ssl._create_default_https_context,\n",
    "    )\n",
    "else:\n",
    "    triton_http_client = http_client.InferenceServerClient(\n",
    "        url=ENDPOINT_URL, verbose=False,\n",
    "    )\n",
    "\n",
    "print(\"Is server ready - {}\".format(triton_http_client.is_server_ready(headers=HTTP_HEADERS)))\n",
    "\n",
    "def get_string_tensor(string_values, tensor_name):\n",
    "    string_obj = np.array(string_values, dtype=\"object\")\n",
    "    input_obj = http_client.InferInput(tensor_name, string_obj.shape, np_to_triton_dtype(string_obj.dtype))\n",
    "    input_obj.set_data_from_numpy(string_obj)\n",
    "    return input_obj\n",
    "\n",
    "def get_translation_input_for_triton(texts: list, src_lang: str, tgt_lang: str):\n",
    "    return [\n",
    "        get_string_tensor([[text] for text in texts], \"INPUT_TEXT\"),\n",
    "        get_string_tensor([[src_lang]] * len(texts), \"INPUT_LANGUAGE_ID\"),\n",
    "        get_string_tensor([[tgt_lang]] * len(texts), \"OUTPUT_LANGUAGE_ID\"),\n",
    "    ]\n",
    "\n",
    "def translate_to_kannada(texts):\n",
    "    inputs = get_translation_input_for_triton(texts, \"en\", \"kn\")\n",
    "    output0 = http_client.InferRequestedOutput(\"OUTPUT_TEXT\")\n",
    "\n",
    "    # Send request\n",
    "    response = triton_http_client.infer(\n",
    "        \"nmt\",\n",
    "        model_version='1',\n",
    "        inputs=inputs,\n",
    "        outputs=[output0],\n",
    "        headers=HTTP_HEADERS,\n",
    "    )\n",
    "\n",
    "    # Decode the response\n",
    "    output_batch = response.as_numpy('OUTPUT_TEXT').tolist()\n",
    "    translations = [translation[0].decode(\"utf-8\") for translation in output_batch]\n",
    "    \n",
    "    return translations\n",
    "\n",
    "def save_to_csv(original_instructions, original_outputs, translated_instructions, translated_outputs, file_path):\n",
    "    data = {\n",
    "        \"original_instruction\": original_instructions,\n",
    "        \"original_output\": original_outputs,\n",
    "        \"translated_instruction\": translated_instructions,\n",
    "        \"translated_output\": translated_outputs\n",
    "    }\n",
    "\n",
    "    df = pd.DataFrame(data)\n",
    "    df.to_csv(file_path, index=False)\n",
    "\n",
    "def translate_dataset_to_kannada(dataset,output_folder=\"final_translate_data_3\"):\n",
    "    batch_size = 512  # Adjust the batch size based on your requirements\n",
    "    num_examples = len(dataset[\"chosen\"])\n",
    "\n",
    "    translated_chosen = []\n",
    "    translated_rejected = []\n",
    "\n",
    "    for start_idx in tqdm(range(0, num_examples, batch_size), desc=\"Translating Dataset\"):\n",
    "        end_idx = min(start_idx + batch_size, num_examples)\n",
    "        batch_chosen = dataset[\"chosen\"][start_idx:end_idx]\n",
    "        batch_rejected = dataset[\"rejected\"][start_idx:end_idx]\n",
    "\n",
    "        translated_batch_instructions = translate_to_kannada(batch_chosen)\n",
    "        translated_batch_outputs = translate_to_kannada(batch_rejected)\n",
    "\n",
    "        translated_chosen.extend(translated_batch_instructions)\n",
    "        translated_rejected.extend(translated_batch_outputs)\n",
    "         # Save to CSV file after each iteration\n",
    "        iteration_num = start_idx // batch_size\n",
    "        save_path = f\"{output_folder}/iteration_{iteration_num}_{end_idx}.csv\"\n",
    "        save_to_csv(batch_chosen, batch_rejected, translated_batch_instructions, translated_batch_outputs, save_path)\n",
    "\n",
    "    translated_dataset = {\n",
    "        \"chosen_english\": dataset[\"chosen\"],  \n",
    "        \"rejected_english\":  dataset[\"rejected\"],  \n",
    "        \"chosen_kannada\": translated_chosen,\n",
    "        \"rejected_kannda\": translated_rejected\n",
    "    }\n",
    "\n",
    "    return translated_dataset"
   ]
  },
  {
   "cell_type": "code",
   "execution_count": 17,
   "metadata": {},
   "outputs": [
    {
     "name": "stderr",
     "output_type": "stream",
     "text": [
      "Translating Dataset:   4%|▎         | 6/169 [05:55<2:40:53, 59.23s/it]\n"
     ]
    },
    {
     "ename": "ConnectionRefusedError",
     "evalue": "[Errno 10061] [WinError 10061] No connection could be made because the target machine actively refused it.",
     "output_type": "error",
     "traceback": [
      "\u001b[1;31m---------------------------------------------------------------------------\u001b[0m",
      "\u001b[1;31mEmpty\u001b[0m                                     Traceback (most recent call last)",
      "File \u001b[1;32mc:\\Projects\\LLM-Cookbook\\LLM-venv\\Lib\\site-packages\\geventhttpclient\\connectionpool.py:163\u001b[0m, in \u001b[0;36mConnectionPool.get_socket\u001b[1;34m(self)\u001b[0m\n\u001b[0;32m    162\u001b[0m \u001b[38;5;28;01mtry\u001b[39;00m:\n\u001b[1;32m--> 163\u001b[0m     \u001b[38;5;28;01mreturn\u001b[39;00m \u001b[38;5;28;43mself\u001b[39;49m\u001b[38;5;241;43m.\u001b[39;49m\u001b[43m_socket_queue\u001b[49m\u001b[38;5;241;43m.\u001b[39;49m\u001b[43mget\u001b[49m\u001b[43m(\u001b[49m\u001b[43mblock\u001b[49m\u001b[38;5;241;43m=\u001b[39;49m\u001b[38;5;28;43;01mFalse\u001b[39;49;00m\u001b[43m)\u001b[49m\n\u001b[0;32m    164\u001b[0m \u001b[38;5;28;01mexcept\u001b[39;00m gevent\u001b[38;5;241m.\u001b[39mqueue\u001b[38;5;241m.\u001b[39mEmpty:\n",
      "File \u001b[1;32msrc\\\\gevent\\\\queue.py:335\u001b[0m, in \u001b[0;36mgevent._gevent_cqueue.Queue.get\u001b[1;34m()\u001b[0m\n",
      "File \u001b[1;32msrc\\\\gevent\\\\queue.py:350\u001b[0m, in \u001b[0;36mgevent._gevent_cqueue.Queue.get\u001b[1;34m()\u001b[0m\n",
      "File \u001b[1;32msrc\\\\gevent\\\\queue.py:319\u001b[0m, in \u001b[0;36mgevent._gevent_cqueue.Queue._Queue__get_or_peek\u001b[1;34m()\u001b[0m\n",
      "\u001b[1;31mEmpty\u001b[0m: ",
      "\nDuring handling of the above exception, another exception occurred:\n",
      "\u001b[1;31mConnectionRefusedError\u001b[0m                    Traceback (most recent call last)",
      "Cell \u001b[1;32mIn[17], line 1\u001b[0m\n\u001b[1;32m----> 1\u001b[0m translated_dataset \u001b[38;5;241m=\u001b[39m \u001b[43mtranslate_dataset_to_kannada\u001b[49m\u001b[43m(\u001b[49m\u001b[43mdataset\u001b[49m\u001b[43m[\u001b[49m\u001b[38;5;124;43m\"\u001b[39;49m\u001b[38;5;124;43mtrain\u001b[39;49m\u001b[38;5;124;43m\"\u001b[39;49m\u001b[43m]\u001b[49m\u001b[43m[\u001b[49m\u001b[38;5;241;43m74782\u001b[39;49m\u001b[43m:\u001b[49m\u001b[43m]\u001b[49m\u001b[43m)\u001b[49m\n",
      "Cell \u001b[1;32mIn[16], line 81\u001b[0m, in \u001b[0;36mtranslate_dataset_to_kannada\u001b[1;34m(dataset, output_folder)\u001b[0m\n\u001b[0;32m     78\u001b[0m batch_chosen \u001b[38;5;241m=\u001b[39m dataset[\u001b[38;5;124m\"\u001b[39m\u001b[38;5;124mchosen\u001b[39m\u001b[38;5;124m\"\u001b[39m][start_idx:end_idx]\n\u001b[0;32m     79\u001b[0m batch_rejected \u001b[38;5;241m=\u001b[39m dataset[\u001b[38;5;124m\"\u001b[39m\u001b[38;5;124mrejected\u001b[39m\u001b[38;5;124m\"\u001b[39m][start_idx:end_idx]\n\u001b[1;32m---> 81\u001b[0m translated_batch_instructions \u001b[38;5;241m=\u001b[39m \u001b[43mtranslate_to_kannada\u001b[49m\u001b[43m(\u001b[49m\u001b[43mbatch_chosen\u001b[49m\u001b[43m)\u001b[49m\n\u001b[0;32m     82\u001b[0m translated_batch_outputs \u001b[38;5;241m=\u001b[39m translate_to_kannada(batch_rejected)\n\u001b[0;32m     84\u001b[0m translated_chosen\u001b[38;5;241m.\u001b[39mextend(translated_batch_instructions)\n",
      "Cell \u001b[1;32mIn[16], line 44\u001b[0m, in \u001b[0;36mtranslate_to_kannada\u001b[1;34m(texts)\u001b[0m\n\u001b[0;32m     41\u001b[0m output0 \u001b[38;5;241m=\u001b[39m http_client\u001b[38;5;241m.\u001b[39mInferRequestedOutput(\u001b[38;5;124m\"\u001b[39m\u001b[38;5;124mOUTPUT_TEXT\u001b[39m\u001b[38;5;124m\"\u001b[39m)\n\u001b[0;32m     43\u001b[0m \u001b[38;5;66;03m# Send request\u001b[39;00m\n\u001b[1;32m---> 44\u001b[0m response \u001b[38;5;241m=\u001b[39m \u001b[43mtriton_http_client\u001b[49m\u001b[38;5;241;43m.\u001b[39;49m\u001b[43minfer\u001b[49m\u001b[43m(\u001b[49m\n\u001b[0;32m     45\u001b[0m \u001b[43m    \u001b[49m\u001b[38;5;124;43m\"\u001b[39;49m\u001b[38;5;124;43mnmt\u001b[39;49m\u001b[38;5;124;43m\"\u001b[39;49m\u001b[43m,\u001b[49m\n\u001b[0;32m     46\u001b[0m \u001b[43m    \u001b[49m\u001b[43mmodel_version\u001b[49m\u001b[38;5;241;43m=\u001b[39;49m\u001b[38;5;124;43m'\u001b[39;49m\u001b[38;5;124;43m1\u001b[39;49m\u001b[38;5;124;43m'\u001b[39;49m\u001b[43m,\u001b[49m\n\u001b[0;32m     47\u001b[0m \u001b[43m    \u001b[49m\u001b[43minputs\u001b[49m\u001b[38;5;241;43m=\u001b[39;49m\u001b[43minputs\u001b[49m\u001b[43m,\u001b[49m\n\u001b[0;32m     48\u001b[0m \u001b[43m    \u001b[49m\u001b[43moutputs\u001b[49m\u001b[38;5;241;43m=\u001b[39;49m\u001b[43m[\u001b[49m\u001b[43moutput0\u001b[49m\u001b[43m]\u001b[49m\u001b[43m,\u001b[49m\n\u001b[0;32m     49\u001b[0m \u001b[43m    \u001b[49m\u001b[43mheaders\u001b[49m\u001b[38;5;241;43m=\u001b[39;49m\u001b[43mHTTP_HEADERS\u001b[49m\u001b[43m,\u001b[49m\n\u001b[0;32m     50\u001b[0m \u001b[43m\u001b[49m\u001b[43m)\u001b[49m\n\u001b[0;32m     52\u001b[0m \u001b[38;5;66;03m# Decode the response\u001b[39;00m\n\u001b[0;32m     53\u001b[0m output_batch \u001b[38;5;241m=\u001b[39m response\u001b[38;5;241m.\u001b[39mas_numpy(\u001b[38;5;124m'\u001b[39m\u001b[38;5;124mOUTPUT_TEXT\u001b[39m\u001b[38;5;124m'\u001b[39m)\u001b[38;5;241m.\u001b[39mtolist()\n",
      "File \u001b[1;32mc:\\Projects\\LLM-Cookbook\\LLM-venv\\Lib\\site-packages\\tritonclient\\http\\_client.py:1462\u001b[0m, in \u001b[0;36mInferenceServerClient.infer\u001b[1;34m(self, model_name, inputs, model_version, outputs, request_id, sequence_id, sequence_start, sequence_end, priority, timeout, headers, query_params, request_compression_algorithm, response_compression_algorithm, parameters)\u001b[0m\n\u001b[0;32m   1459\u001b[0m \u001b[38;5;28;01melse\u001b[39;00m:\n\u001b[0;32m   1460\u001b[0m     request_uri \u001b[38;5;241m=\u001b[39m \u001b[38;5;124m\"\u001b[39m\u001b[38;5;124mv2/models/\u001b[39m\u001b[38;5;132;01m{}\u001b[39;00m\u001b[38;5;124m/infer\u001b[39m\u001b[38;5;124m\"\u001b[39m\u001b[38;5;241m.\u001b[39mformat(quote(model_name))\n\u001b[1;32m-> 1462\u001b[0m response \u001b[38;5;241m=\u001b[39m \u001b[38;5;28;43mself\u001b[39;49m\u001b[38;5;241;43m.\u001b[39;49m\u001b[43m_post\u001b[49m\u001b[43m(\u001b[49m\n\u001b[0;32m   1463\u001b[0m \u001b[43m    \u001b[49m\u001b[43mrequest_uri\u001b[49m\u001b[38;5;241;43m=\u001b[39;49m\u001b[43mrequest_uri\u001b[49m\u001b[43m,\u001b[49m\n\u001b[0;32m   1464\u001b[0m \u001b[43m    \u001b[49m\u001b[43mrequest_body\u001b[49m\u001b[38;5;241;43m=\u001b[39;49m\u001b[43mrequest_body\u001b[49m\u001b[43m,\u001b[49m\n\u001b[0;32m   1465\u001b[0m \u001b[43m    \u001b[49m\u001b[43mheaders\u001b[49m\u001b[38;5;241;43m=\u001b[39;49m\u001b[43mheaders\u001b[49m\u001b[43m,\u001b[49m\n\u001b[0;32m   1466\u001b[0m \u001b[43m    \u001b[49m\u001b[43mquery_params\u001b[49m\u001b[38;5;241;43m=\u001b[39;49m\u001b[43mquery_params\u001b[49m\u001b[43m,\u001b[49m\n\u001b[0;32m   1467\u001b[0m \u001b[43m\u001b[49m\u001b[43m)\u001b[49m\n\u001b[0;32m   1468\u001b[0m _raise_if_error(response)\n\u001b[0;32m   1470\u001b[0m \u001b[38;5;28;01mreturn\u001b[39;00m InferResult(response, \u001b[38;5;28mself\u001b[39m\u001b[38;5;241m.\u001b[39m_verbose)\n",
      "File \u001b[1;32mc:\\Projects\\LLM-Cookbook\\LLM-venv\\Lib\\site-packages\\tritonclient\\http\\_client.py:290\u001b[0m, in \u001b[0;36mInferenceServerClient._post\u001b[1;34m(self, request_uri, request_body, headers, query_params)\u001b[0m\n\u001b[0;32m    287\u001b[0m     \u001b[38;5;28mprint\u001b[39m(\u001b[38;5;124m\"\u001b[39m\u001b[38;5;124mPOST \u001b[39m\u001b[38;5;132;01m{}\u001b[39;00m\u001b[38;5;124m, headers \u001b[39m\u001b[38;5;132;01m{}\u001b[39;00m\u001b[38;5;130;01m\\n\u001b[39;00m\u001b[38;5;132;01m{}\u001b[39;00m\u001b[38;5;124m\"\u001b[39m\u001b[38;5;241m.\u001b[39mformat(request_uri, headers, request_body))\n\u001b[0;32m    289\u001b[0m \u001b[38;5;28;01mif\u001b[39;00m headers \u001b[38;5;129;01mis\u001b[39;00m \u001b[38;5;129;01mnot\u001b[39;00m \u001b[38;5;28;01mNone\u001b[39;00m:\n\u001b[1;32m--> 290\u001b[0m     response \u001b[38;5;241m=\u001b[39m \u001b[38;5;28;43mself\u001b[39;49m\u001b[38;5;241;43m.\u001b[39;49m\u001b[43m_client_stub\u001b[49m\u001b[38;5;241;43m.\u001b[39;49m\u001b[43mpost\u001b[49m\u001b[43m(\u001b[49m\n\u001b[0;32m    291\u001b[0m \u001b[43m        \u001b[49m\u001b[43mrequest_uri\u001b[49m\u001b[38;5;241;43m=\u001b[39;49m\u001b[43mrequest_uri\u001b[49m\u001b[43m,\u001b[49m\u001b[43m \u001b[49m\u001b[43mbody\u001b[49m\u001b[38;5;241;43m=\u001b[39;49m\u001b[43mrequest_body\u001b[49m\u001b[43m,\u001b[49m\u001b[43m \u001b[49m\u001b[43mheaders\u001b[49m\u001b[38;5;241;43m=\u001b[39;49m\u001b[43mheaders\u001b[49m\n\u001b[0;32m    292\u001b[0m \u001b[43m    \u001b[49m\u001b[43m)\u001b[49m\n\u001b[0;32m    293\u001b[0m \u001b[38;5;28;01melse\u001b[39;00m:\n\u001b[0;32m    294\u001b[0m     response \u001b[38;5;241m=\u001b[39m \u001b[38;5;28mself\u001b[39m\u001b[38;5;241m.\u001b[39m_client_stub\u001b[38;5;241m.\u001b[39mpost(\n\u001b[0;32m    295\u001b[0m         request_uri\u001b[38;5;241m=\u001b[39mrequest_uri, body\u001b[38;5;241m=\u001b[39mrequest_body\n\u001b[0;32m    296\u001b[0m     )\n",
      "File \u001b[1;32mc:\\Projects\\LLM-Cookbook\\LLM-venv\\Lib\\site-packages\\geventhttpclient\\client.py:272\u001b[0m, in \u001b[0;36mHTTPClient.post\u001b[1;34m(self, request_uri, body, headers)\u001b[0m\n\u001b[0;32m    271\u001b[0m \u001b[38;5;28;01mdef\u001b[39;00m \u001b[38;5;21mpost\u001b[39m(\u001b[38;5;28mself\u001b[39m, request_uri, body\u001b[38;5;241m=\u001b[39m\u001b[38;5;124mu\u001b[39m\u001b[38;5;124m'\u001b[39m\u001b[38;5;124m'\u001b[39m, headers\u001b[38;5;241m=\u001b[39m\u001b[38;5;28;01mNone\u001b[39;00m):\n\u001b[1;32m--> 272\u001b[0m     \u001b[38;5;28;01mreturn\u001b[39;00m \u001b[38;5;28;43mself\u001b[39;49m\u001b[38;5;241;43m.\u001b[39;49m\u001b[43mrequest\u001b[49m\u001b[43m(\u001b[49m\u001b[43mMETHOD_POST\u001b[49m\u001b[43m,\u001b[49m\u001b[43m \u001b[49m\u001b[43mrequest_uri\u001b[49m\u001b[43m,\u001b[49m\u001b[43m \u001b[49m\u001b[43mbody\u001b[49m\u001b[38;5;241;43m=\u001b[39;49m\u001b[43mbody\u001b[49m\u001b[43m,\u001b[49m\u001b[43m \u001b[49m\u001b[43mheaders\u001b[49m\u001b[38;5;241;43m=\u001b[39;49m\u001b[43mheaders\u001b[49m\u001b[43m)\u001b[49m\n",
      "File \u001b[1;32mc:\\Projects\\LLM-Cookbook\\LLM-venv\\Lib\\site-packages\\geventhttpclient\\client.py:226\u001b[0m, in \u001b[0;36mHTTPClient.request\u001b[1;34m(self, method, request_uri, body, headers)\u001b[0m\n\u001b[0;32m    223\u001b[0m attempts_left \u001b[38;5;241m=\u001b[39m \u001b[38;5;28mself\u001b[39m\u001b[38;5;241m.\u001b[39m_connection_pool\u001b[38;5;241m.\u001b[39msize \u001b[38;5;241m+\u001b[39m \u001b[38;5;241m1\u001b[39m\n\u001b[0;32m    225\u001b[0m \u001b[38;5;28;01mwhile\u001b[39;00m \u001b[38;5;241m1\u001b[39m:\n\u001b[1;32m--> 226\u001b[0m     sock \u001b[38;5;241m=\u001b[39m \u001b[38;5;28;43mself\u001b[39;49m\u001b[38;5;241;43m.\u001b[39;49m\u001b[43m_connection_pool\u001b[49m\u001b[38;5;241;43m.\u001b[39;49m\u001b[43mget_socket\u001b[49m\u001b[43m(\u001b[49m\u001b[43m)\u001b[49m\n\u001b[0;32m    227\u001b[0m     \u001b[38;5;28;01mtry\u001b[39;00m:\n\u001b[0;32m    228\u001b[0m         _request \u001b[38;5;241m=\u001b[39m request\u001b[38;5;241m.\u001b[39mencode()\n",
      "File \u001b[1;32mc:\\Projects\\LLM-Cookbook\\LLM-venv\\Lib\\site-packages\\geventhttpclient\\connectionpool.py:166\u001b[0m, in \u001b[0;36mConnectionPool.get_socket\u001b[1;34m(self)\u001b[0m\n\u001b[0;32m    164\u001b[0m \u001b[38;5;28;01mexcept\u001b[39;00m gevent\u001b[38;5;241m.\u001b[39mqueue\u001b[38;5;241m.\u001b[39mEmpty:\n\u001b[0;32m    165\u001b[0m     \u001b[38;5;28;01mtry\u001b[39;00m:\n\u001b[1;32m--> 166\u001b[0m         \u001b[38;5;28;01mreturn\u001b[39;00m \u001b[38;5;28;43mself\u001b[39;49m\u001b[38;5;241;43m.\u001b[39;49m\u001b[43m_create_socket\u001b[49m\u001b[43m(\u001b[49m\u001b[43m)\u001b[49m\n\u001b[0;32m    167\u001b[0m     \u001b[38;5;28;01mexcept\u001b[39;00m:\n\u001b[0;32m    168\u001b[0m         \u001b[38;5;28mself\u001b[39m\u001b[38;5;241m.\u001b[39m_semaphore\u001b[38;5;241m.\u001b[39mrelease()\n",
      "File \u001b[1;32mc:\\Projects\\LLM-Cookbook\\LLM-venv\\Lib\\site-packages\\geventhttpclient\\connectionpool.py:127\u001b[0m, in \u001b[0;36mConnectionPool._create_socket\u001b[1;34m(self)\u001b[0m\n\u001b[0;32m    124\u001b[0m         \u001b[38;5;28;01mraise\u001b[39;00m\n\u001b[0;32m    126\u001b[0m \u001b[38;5;28;01mif\u001b[39;00m first_error:\n\u001b[1;32m--> 127\u001b[0m     \u001b[38;5;28;01mraise\u001b[39;00m first_error\n\u001b[0;32m    128\u001b[0m \u001b[38;5;28;01melse\u001b[39;00m:\n\u001b[0;32m    129\u001b[0m     \u001b[38;5;28;01mraise\u001b[39;00m \u001b[38;5;167;01mRuntimeError\u001b[39;00m(\n\u001b[0;32m    130\u001b[0m         \u001b[38;5;124m\"\u001b[39m\u001b[38;5;124mCannot resolve \u001b[39m\u001b[38;5;132;01m%s\u001b[39;00m\u001b[38;5;124m:\u001b[39m\u001b[38;5;132;01m%s\u001b[39;00m\u001b[38;5;124m\"\u001b[39m \u001b[38;5;241m%\u001b[39m (\u001b[38;5;28mself\u001b[39m\u001b[38;5;241m.\u001b[39m_host, \u001b[38;5;28mself\u001b[39m\u001b[38;5;241m.\u001b[39m_port))\n",
      "File \u001b[1;32mc:\\Projects\\LLM-Cookbook\\LLM-venv\\Lib\\site-packages\\geventhttpclient\\connectionpool.py:114\u001b[0m, in \u001b[0;36mConnectionPool._create_socket\u001b[1;34m(self)\u001b[0m\n\u001b[0;32m    112\u001b[0m \u001b[38;5;28;01mtry\u001b[39;00m:\n\u001b[0;32m    113\u001b[0m     sock\u001b[38;5;241m.\u001b[39msettimeout(\u001b[38;5;28mself\u001b[39m\u001b[38;5;241m.\u001b[39mconnection_timeout)\n\u001b[1;32m--> 114\u001b[0m     sock \u001b[38;5;241m=\u001b[39m \u001b[38;5;28;43mself\u001b[39;49m\u001b[38;5;241;43m.\u001b[39;49m\u001b[43m_connect_socket\u001b[49m\u001b[43m(\u001b[49m\u001b[43msock\u001b[49m\u001b[43m,\u001b[49m\u001b[43m \u001b[49m\u001b[43msock_info\u001b[49m\u001b[43m[\u001b[49m\u001b[38;5;241;43m-\u001b[39;49m\u001b[38;5;241;43m1\u001b[39;49m\u001b[43m]\u001b[49m\u001b[43m)\u001b[49m\n\u001b[0;32m    115\u001b[0m     \u001b[38;5;28mself\u001b[39m\u001b[38;5;241m.\u001b[39mafter_connect(sock)\n\u001b[0;32m    116\u001b[0m     sock\u001b[38;5;241m.\u001b[39msettimeout(\u001b[38;5;28mself\u001b[39m\u001b[38;5;241m.\u001b[39mnetwork_timeout)\n",
      "File \u001b[1;32mc:\\Projects\\LLM-Cookbook\\LLM-venv\\Lib\\site-packages\\geventhttpclient\\connectionpool.py:136\u001b[0m, in \u001b[0;36mConnectionPool._connect_socket\u001b[1;34m(self, sock, address)\u001b[0m\n\u001b[0;32m    135\u001b[0m \u001b[38;5;28;01mdef\u001b[39;00m \u001b[38;5;21m_connect_socket\u001b[39m(\u001b[38;5;28mself\u001b[39m, sock, address):\n\u001b[1;32m--> 136\u001b[0m     \u001b[43msock\u001b[49m\u001b[38;5;241;43m.\u001b[39;49m\u001b[43mconnect\u001b[49m\u001b[43m(\u001b[49m\u001b[43maddress\u001b[49m\u001b[43m)\u001b[49m\n\u001b[0;32m    137\u001b[0m     \u001b[38;5;28mself\u001b[39m\u001b[38;5;241m.\u001b[39m_setup_proxy(sock)\n\u001b[0;32m    138\u001b[0m     \u001b[38;5;28;01mreturn\u001b[39;00m sock\n",
      "File \u001b[1;32mc:\\Projects\\LLM-Cookbook\\LLM-venv\\Lib\\site-packages\\gevent\\_socketcommon.py:590\u001b[0m, in \u001b[0;36mSocketMixin.connect\u001b[1;34m(self, address)\u001b[0m\n\u001b[0;32m    576\u001b[0m \u001b[38;5;250m\u001b[39m\u001b[38;5;124;03m\"\"\"\u001b[39;00m\n\u001b[0;32m    577\u001b[0m \u001b[38;5;124;03mConnect to *address*.\u001b[39;00m\n\u001b[0;32m    578\u001b[0m \n\u001b[1;32m   (...)\u001b[0m\n\u001b[0;32m    582\u001b[0m \u001b[38;5;124;03m    :func:`socket.inet_pton`.\u001b[39;00m\n\u001b[0;32m    583\u001b[0m \u001b[38;5;124;03m\"\"\"\u001b[39;00m\n\u001b[0;32m    584\u001b[0m \u001b[38;5;66;03m# In the standard library, ``connect`` and ``connect_ex`` are implemented\u001b[39;00m\n\u001b[0;32m    585\u001b[0m \u001b[38;5;66;03m# in C, and they both call a C function ``internal_connect`` to do the real\u001b[39;00m\n\u001b[0;32m    586\u001b[0m \u001b[38;5;66;03m# work. This means that it is a visible behaviour difference to have our\u001b[39;00m\n\u001b[0;32m    587\u001b[0m \u001b[38;5;66;03m# Python implementation of ``connect_ex`` simply call ``connect``:\u001b[39;00m\n\u001b[0;32m    588\u001b[0m \u001b[38;5;66;03m# it could be overridden in a subclass or at runtime! Because of our exception handling,\u001b[39;00m\n\u001b[0;32m    589\u001b[0m \u001b[38;5;66;03m# this can make a difference for known subclasses like SSLSocket.\u001b[39;00m\n\u001b[1;32m--> 590\u001b[0m \u001b[38;5;28;43mself\u001b[39;49m\u001b[38;5;241;43m.\u001b[39;49m\u001b[43m_internal_connect\u001b[49m\u001b[43m(\u001b[49m\u001b[43maddress\u001b[49m\u001b[43m)\u001b[49m\n",
      "File \u001b[1;32mc:\\Projects\\LLM-Cookbook\\LLM-venv\\Lib\\site-packages\\gevent\\_socketcommon.py:634\u001b[0m, in \u001b[0;36mSocketMixin._internal_connect\u001b[1;34m(self, address)\u001b[0m\n\u001b[0;32m    632\u001b[0m err \u001b[38;5;241m=\u001b[39m \u001b[38;5;28mself\u001b[39m\u001b[38;5;241m.\u001b[39mgetsockopt(__socket__\u001b[38;5;241m.\u001b[39mSOL_SOCKET, __socket__\u001b[38;5;241m.\u001b[39mSO_ERROR)\n\u001b[0;32m    633\u001b[0m \u001b[38;5;28;01mif\u001b[39;00m err:\n\u001b[1;32m--> 634\u001b[0m     \u001b[38;5;28;01mraise\u001b[39;00m _SocketError(err, strerror(err))\n\u001b[0;32m    635\u001b[0m result \u001b[38;5;241m=\u001b[39m \u001b[38;5;28mself\u001b[39m\u001b[38;5;241m.\u001b[39m_sock\u001b[38;5;241m.\u001b[39mconnect_ex(address)\n\u001b[0;32m    637\u001b[0m \u001b[38;5;28;01mif\u001b[39;00m \u001b[38;5;129;01mnot\u001b[39;00m result \u001b[38;5;129;01mor\u001b[39;00m result \u001b[38;5;241m==\u001b[39m EISCONN:\n",
      "\u001b[1;31mConnectionRefusedError\u001b[0m: [Errno 10061] [WinError 10061] No connection could be made because the target machine actively refused it."
     ]
    },
    {
     "ename": "",
     "evalue": "",
     "output_type": "error",
     "traceback": [
      "\u001b[1;31mThe Kernel crashed while executing code in the current cell or a previous cell. \n",
      "\u001b[1;31mPlease review the code in the cell(s) to identify a possible cause of the failure. \n",
      "\u001b[1;31mClick <a href='https://aka.ms/vscodeJupyterKernelCrash'>here</a> for more info. \n",
      "\u001b[1;31mView Jupyter <a href='command:jupyter.viewOutput'>log</a> for further details."
     ]
    }
   ],
   "source": [
    "translated_dataset = translate_dataset_to_kannada(dataset[\"train\"][74782:])"
   ]
  },
  {
   "cell_type": "code",
   "execution_count": null,
   "metadata": {},
   "outputs": [],
   "source": []
  }
 ],
 "metadata": {
  "kernelspec": {
   "display_name": "Python 3",
   "language": "python",
   "name": "python3"
  },
  "language_info": {
   "codemirror_mode": {
    "name": "ipython",
    "version": 3
   },
   "file_extension": ".py",
   "mimetype": "text/x-python",
   "name": "python",
   "nbconvert_exporter": "python",
   "pygments_lexer": "ipython3",
   "version": "3.11.0"
  }
 },
 "nbformat": 4,
 "nbformat_minor": 2
}
